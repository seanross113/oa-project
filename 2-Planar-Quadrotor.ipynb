{
 "cells": [
  {
   "cell_type": "code",
   "execution_count": 1,
   "id": "f6929dba-17b6-473b-963a-53aba59803ce",
   "metadata": {},
   "outputs": [],
   "source": [
    "import numpy as np\n",
    "import scipy as sp"
   ]
  },
  {
   "cell_type": "code",
   "execution_count": 2,
   "id": "69fdac41-7f60-405b-8fb6-9900be526ce4",
   "metadata": {},
   "outputs": [],
   "source": [
    "from quadrotor.dynamics import QuadrotorDynamicsBase, QuadrotorState\n",
    "from quadrotor.controller import ControllerBase, QuadrotorCommands\n",
    "from quadrotor.trajectory import TrajectoryBase, TrajectoryState"
   ]
  },
  {
   "cell_type": "markdown",
   "id": "c1cde722-2717-4566-a6db-6b0b7748a1df",
   "metadata": {},
   "source": [
    "### Before diving in\n",
    "Before diving in, I recommend going through the text part in the first notebook and the base files in the repository!"
   ]
  },
  {
   "cell_type": "code",
   "execution_count": 3,
   "id": "c797ab0a-3a63-46b7-b275-42882f603da9",
   "metadata": {},
   "outputs": [],
   "source": [
    "from sym import Rot3\n",
    "\n",
    "def dRot3(R: Rot3, omega: np.ndarray) -> Rot3:\n",
    "    \"\"\"\n",
    "    NOTE(roy): If interested, we can discuss the math here later. There are other\n",
    "    ways of doing this but to keep the ode_int formulation, we specifically require\n",
    "    dq/dt. Refer to 'Baseile Graf - Quaternions and Dynamics' or (for intuition)\n",
    "    https://math.stackexchange.com/questions/1896379/how-to-use-the-quaternion-derivative\n",
    "    \"\"\"\n",
    "    quat = np.array(R.to_storage())  # Convert to raw quaternion\n",
    "    (q0, q1, q2, q3) = quat  # xyzw storage, see https://symforce.org/api-gen-cpp/class/classsym_1_1Rot3.html\n",
    "\n",
    "    G = np.array([[ q3,  q2, -q1, -q0],\n",
    "                [-q2,  q3,  q0, -q1],\n",
    "                [ q1, -q0,  q3, -q2]])\n",
    "    quat_dot = (G.T @ omega) / 2\n",
    "    return Rot3.from_storage(quat_dot)"
   ]
  },
  {
   "cell_type": "markdown",
   "id": "5f1db462-33f7-432b-98c4-616fab9a0182",
   "metadata": {},
   "source": [
    "### Building a 2D planar quadrotor model\n",
    "In this second notebook, we'll build a planar quadrotor model as discussed in the slides. Note that most of our base classes (e.g. `QuaternionState`, etc...) are built for a 3D quadrotor. This means that we'll effectively just ignore a dimension. In this case, we'll use `x` and `z` as our horizontal/vertical plane and assume the quadrotor is only able to rotate about the `y` axis that goes into the plane. In the `QuadrotorCommands` this means we'll use only the first 2 rotor rates and pretend the back two don't exist!\n",
    "\n",
    "#### Your work\n",
    "This is the first 'real' notebook and we've gone through material pretty fast. To get started, I've provided some ground-work for certain things. Throughout the code, you'll see `raise NotImplementedError()` exceptions in places where you're expected to write code (so replace them with your actual implementation). Please refer to the first notebook for more info on the program structure and coding guidelines. Given that we're doing a lot of math implementation here, the code is fairly dense, and I want you to err on the side of overclarification.\n",
    "\n",
    "You'll also find some `NOTE(roy)` comments in there sometimes, those are comments that I think are valuable for you to read, or provide extra sources if you're interested."
   ]
  },
  {
   "cell_type": "markdown",
   "id": "6c11a7cd-85c4-4ae8-9206-d6069c200e62",
   "metadata": {},
   "source": [
    "#### Model parameters\n",
    "Let's first define a set of parameters to work with. We'll use a `dataclass` structure ([this](https://realpython.com/python-data-classes/) is a decent intro but the gist of it is that we don't need to define an `__init__` or `__repr__` function and can just add our fields).\n",
    "\n",
    "In this case, I'm using parameters for a [Skydio X2](https://www.skydio.com/skydio-x2) drone. Later during the course we'll play with other parameters to see how things change (e.g. a [Skydio S2](https://www.skydio.com/skydio-2-plus-enterprise) or a [CrazyFly](https://www.bitcraze.io/products/crazyflie-2-1/)). From a control point of view, this drone is a little strange, it's relatively heavy and uses three-blade propellors, which means thrust is higher at lower rotors speeds."
   ]
  },
  {
   "cell_type": "code",
   "execution_count": 4,
   "id": "979e816b-7fd5-4ab0-bbf9-68d63d15c1d0",
   "metadata": {},
   "outputs": [],
   "source": [
    "from dataclasses import dataclass\n",
    "\n",
    "@dataclass\n",
    "class Params:\n",
    "    \"\"\"A little utility class to hold our quadrotor parameters\"\"\"\n",
    "    mass: float = 1.352  # [kg]\n",
    "    inertia: float = 9.8e-2  # [kg m2]\n",
    "\n",
    "    rotor_diameter: float = 10 * 0.0254  # [m] 10 inches\n",
    "\n",
    "    static_thrust_coefficient: float = 0.14553  # [-] Thrust coefficient\n",
    "    static_torque_coefficient: float = 0.01047  # [-] Torque coefficient\n",
    "\n",
    "    arm_length: float = 0.3814 / 2.0  # [m] Arm length\n",
    "\n",
    "    # Universal constants\n",
    "    g: float = 9.80665  # [m/s2] Gravity\n",
    "    rho: float = 1.225  # [kg/m3] Sea-level density\n",
    "\n",
    "    def rotor_model(self, static_coefficient: float) -> float:\n",
    "        # NOTE(roy) I'm just including this for completeness sake, this means we can e.g. see how air density\n",
    "        # influences our calculations. Refer to this source for derivation:\n",
    "        # https://web.mit.edu/16.unified/www/FALL/thermodynamics/notes/node86.html\n",
    "        return self.rho * static_coefficient * (self.rotor_diameter ** 4) / (4 * np.pi ** 2)\n",
    "    \n",
    "    @property\n",
    "    def k_thrust(self):\n",
    "        return self.rotor_model(self.static_thrust_coefficient)\n",
    "\n",
    "    @property\n",
    "    def k_torque(self):\n",
    "        return self.rotor_model(self.static_torque_coefficient)\n",
    "\n",
    "# Simply treat as a global\n",
    "p = Params()"
   ]
  },
  {
   "cell_type": "markdown",
   "id": "cb122966-4fa9-4b3b-8a96-2e6839c31d50",
   "metadata": {},
   "source": [
    "#### Creating a dynamics model\n",
    "This was also mentioned in the previous notebook, but we'll make use of classes and inheritance here. If this is unclear to you, [this](https://ioflood.com/blog/python-inheritance/) might be a good source.\n",
    "\n",
    "**If there is any use to me going over Python concepts, please let me know. I'm happy to discuss in a 1:1 or if there's enough interest I'll devote part of a session to this!**\n",
    "\n",
    "\n",
    "#### Using scipy's ODE solver\n",
    "As discussed in the project session, we'll use a built-in ODE solver (it's a fun/interesting exercise to do this yourself, i.e. try implementing forward Euler!). We'll use scipy's `solve_ivp` (solve initial value problem) to approach this. I left a comment in the code where you're expected to use this, [refer to the documentation here](https://docs.scipy.org/doc/scipy/reference/generated/scipy.integrate.solve_ivp.html). Note that for each timestep, we're defining a new ODE, so for each timestep, make sure to integrate from 0 to dt."
   ]
  },
  {
   "cell_type": "code",
   "execution_count": 5,
   "id": "5992a5d3-4711-4ef5-a9bc-6fd3cfabed10",
   "metadata": {},
   "outputs": [],
   "source": [
    "class PlanarQuadrotorDynamics(QuadrotorDynamicsBase):\n",
    "    def __init__(self) -> None:\n",
    "        # NOTE(roy): I advise you to scroll through dynamics.py and see what the __init__\n",
    "        # function in the base class does!\n",
    "        super().__init__()\n",
    "\n",
    "    @staticmethod\n",
    "    def rotor_thrust_model(rotor_rates: np.ndarray) -> np.ndarray:\n",
    "        # NOTE(roy): Implement the simple rotor trust model we discussed in the slides\n",
    "        # (For fun) to see how complex this can get, see for example: https://arxiv.org/pdf/1601.00733.pdf\n",
    "        return p.k_thrust * rotor_rates ** 2\n",
    "\n",
    "    def step(self, t: float, input: QuadrotorCommands) -> QuadrotorState:\n",
    "        # NOTE(roy) Use only the first two rotor rates!\n",
    "        F1, F2 = PlanarQuadrotorDynamics.rotor_thrust_model(input.rotor_rates[:2])\n",
    "\n",
    "        # NOTE(roy) Implement the thrust/torque calculation we discussed in the slides\n",
    "        u1 = F1 + F2\n",
    "        u2 = (F1 - F2) * p.arm_length\n",
    "\n",
    "        # NOTE(roy) this local function is a wrapper around the class state_derivative function\n",
    "        # all this does is convert the our state dataclass from/into a vector that the scipy\n",
    "        # integration solver can work with. See dynamics.py for the definition of these\n",
    "        # from/to state vector functions.\n",
    "        def state_derivative(t: float, state: np.ndarray) -> np.ndarray:\n",
    "            return PlanarQuadrotorDynamics.state_derivative(\n",
    "                QuadrotorState.from_state_vector(state),\n",
    "                u1,\n",
    "                u2,\n",
    "            ).to_state_vector()\n",
    "\n",
    "        state_vector = self.state.to_state_vector()\n",
    "        #raise NotImplementedError(\"Use the scipy function solve_ivp to integrate to the next timestep\")\n",
    "        \n",
    "\n",
    "        # NOTE(roy) solution = sp.integrate.solve_ivp(....\n",
    "        solution = sp.integrate.solve_ivp(\n",
    "            fun=state_derivative,\n",
    "            t_span=[0, self.dt],\n",
    "            y0=state_vector,\n",
    "            method='RK45'\n",
    "        )\n",
    "\n",
    "        self.state = QuadrotorState.from_state_vector(solution['y'][:, -1])\n",
    "        return self.state\n",
    "\n",
    "    @staticmethod\n",
    "    def state_derivative(state: QuadrotorState, u1: float, u2: float) -> QuadrotorState:\n",
    "\n",
    "        # NOTE(roy) compute the relevant values here! Note that we're using only the x- and z dimensions for translation\n",
    "        # and only the y-axis for rotation for this planar model.\n",
    "        phi = state.orientation.to_yaw_pitch_roll()[1]\n",
    "        accel = np.array([-np.sin(phi) / p.mass * u1,\n",
    "                         0,\n",
    "                         np.cos(phi) / p.mass * u1 - p.g])\n",
    "        angular_accel = np.array([0,\n",
    "                                  u2 / p.inertia,\n",
    "                                  0])\n",
    "\n",
    "        # NOTE(roy) this might look a little confusing at first glance, but we're populating DERIVATIVES\n",
    "        # of the state here! So position -> velocity, velocity -> acceleration, etc...\n",
    "        # If you can think of a more readable way to do this (e.g. defining a QuadrotorStateDerivative class)\n",
    "        # feel free to open a pull-request into the upstream repository!\n",
    "        state_derivative = QuadrotorState(\n",
    "            position=state.velocity,\n",
    "            velocity=accel,\n",
    "            orientation=dRot3(state.orientation, state.angular_velocity),\n",
    "            angular_velocity=angular_accel,\n",
    "        )\n",
    "\n",
    "        return state_derivative"
   ]
  },
  {
   "cell_type": "code",
   "execution_count": 6,
   "id": "fdfb7d18-cc55-49ce-874f-852525c8a8a7",
   "metadata": {},
   "outputs": [],
   "source": [
    "class EmptyTrajectory(TrajectoryBase):\n",
    "    def eval(self, *args):\n",
    "        return TrajectoryState(0.0, position=np.zeros(3))  # Trajectory not yet important\n",
    "\n",
    "class EmptyController(ControllerBase):\n",
    "    def step(self, *args) -> QuadrotorCommands:\n",
    "        return QuadrotorCommands(np.array([0, 0, 0, 0]))  # Just zero rotor rates\n",
    "\n",
    "class HoverController(ControllerBase):\n",
    "    def step(self, *args) -> QuadrotorCommands:\n",
    "        return QuadrotorCommands(np.array([598, 598, 0, 0]))  # Hover rate\n",
    "\n",
    "class ImbalancedController(ControllerBase):\n",
    "    def step(self, *args) -> QuadrotorCommands:\n",
    "        return QuadrotorCommands(np.array([600, 500, 0, 0]))  # Imbalanced hover rate"
   ]
  },
  {
   "cell_type": "code",
   "execution_count": 7,
   "id": "10652209-5106-4a73-8f1e-463b42754f10",
   "metadata": {},
   "outputs": [],
   "source": [
    "from quadrotor.simulator import SimulatorBase, SimulatorState\n",
    "\n",
    "# This might be slow to run the first time!\n",
    "from quadrotor.renderer import animate_k3d"
   ]
  },
  {
   "cell_type": "code",
   "execution_count": 8,
   "id": "d31b24c5-3603-451d-bf4c-c3565b8573ce",
   "metadata": {},
   "outputs": [],
   "source": [
    "def run_and_render(initial_state: QuadrotorState, t_total: int = 0.5):\n",
    "    sim = SimulatorBase(\n",
    "        dt=0.01,\n",
    "        dynamics=PlanarQuadrotorDynamics(),\n",
    "        controller=EmptyController(),\n",
    "        trajectory=EmptyTrajectory(),\n",
    "        initial_state=initial_state,\n",
    "        t_total=t_total,\n",
    "    )\n",
    "    \n",
    "    # Run the simulator\n",
    "    output = sim.simulate()\n",
    "\n",
    "    # K3D renderer\n",
    "    plot = animate_k3d(output)\n",
    "    \n",
    "    plot.display()\n",
    "    plot.start_auto_play()"
   ]
  },
  {
   "cell_type": "code",
   "execution_count": 9,
   "id": "03051909-87b1-42d1-ba99-27190b8bf041",
   "metadata": {},
   "outputs": [
    {
     "ename": "LinAlgError",
     "evalue": "0-dimensional array given. Array must be at least two-dimensional",
     "output_type": "error",
     "traceback": [
      "\u001b[1;31m---------------------------------------------------------------------------\u001b[0m",
      "\u001b[1;31mLinAlgError\u001b[0m                               Traceback (most recent call last)",
      "Cell \u001b[1;32mIn[9], line 9\u001b[0m\n\u001b[0;32m      1\u001b[0m \u001b[38;5;66;03m# NOTE(roy) play with this variable and see what happens!\u001b[39;00m\n\u001b[0;32m      2\u001b[0m initial_state \u001b[38;5;241m=\u001b[39m QuadrotorState(\n\u001b[0;32m      3\u001b[0m     position\u001b[38;5;241m=\u001b[39mnp\u001b[38;5;241m.\u001b[39mzeros(\u001b[38;5;241m3\u001b[39m),\n\u001b[0;32m      4\u001b[0m     velocity\u001b[38;5;241m=\u001b[39mnp\u001b[38;5;241m.\u001b[39marray([\u001b[38;5;241m0\u001b[39m, \u001b[38;5;241m0\u001b[39m, \u001b[38;5;241m0\u001b[39m]),\n\u001b[0;32m      5\u001b[0m     orientation\u001b[38;5;241m=\u001b[39mRot3\u001b[38;5;241m.\u001b[39mfrom_yaw_pitch_roll(\u001b[38;5;241m0\u001b[39m, \u001b[38;5;241m0\u001b[39m, \u001b[38;5;241m0\u001b[39m),\n\u001b[0;32m      6\u001b[0m     angular_velocity\u001b[38;5;241m=\u001b[39mnp\u001b[38;5;241m.\u001b[39marray([\u001b[38;5;241m0\u001b[39m, \u001b[38;5;241m0\u001b[39m, \u001b[38;5;241m0\u001b[39m]),\n\u001b[0;32m      7\u001b[0m )\n\u001b[1;32m----> 9\u001b[0m \u001b[43mrun_and_render\u001b[49m\u001b[43m(\u001b[49m\u001b[43minitial_state\u001b[49m\u001b[43m,\u001b[49m\u001b[43m \u001b[49m\u001b[38;5;241;43m1.0\u001b[39;49m\u001b[43m)\u001b[49m\n",
      "Cell \u001b[1;32mIn[8], line 12\u001b[0m, in \u001b[0;36mrun_and_render\u001b[1;34m(initial_state, t_total)\u001b[0m\n\u001b[0;32m      2\u001b[0m sim \u001b[38;5;241m=\u001b[39m SimulatorBase(\n\u001b[0;32m      3\u001b[0m     dt\u001b[38;5;241m=\u001b[39m\u001b[38;5;241m0.01\u001b[39m,\n\u001b[0;32m      4\u001b[0m     dynamics\u001b[38;5;241m=\u001b[39mPlanarQuadrotorDynamics(),\n\u001b[1;32m   (...)\u001b[0m\n\u001b[0;32m      8\u001b[0m     t_total\u001b[38;5;241m=\u001b[39mt_total,\n\u001b[0;32m      9\u001b[0m )\n\u001b[0;32m     11\u001b[0m \u001b[38;5;66;03m# Run the simulator\u001b[39;00m\n\u001b[1;32m---> 12\u001b[0m output \u001b[38;5;241m=\u001b[39m \u001b[43msim\u001b[49m\u001b[38;5;241;43m.\u001b[39;49m\u001b[43msimulate\u001b[49m\u001b[43m(\u001b[49m\u001b[43m)\u001b[49m\n\u001b[0;32m     14\u001b[0m \u001b[38;5;66;03m# K3D renderer\u001b[39;00m\n\u001b[0;32m     15\u001b[0m plot \u001b[38;5;241m=\u001b[39m animate_k3d(output)\n",
      "File \u001b[1;32m~\\source\\OpenAveQuadCopter\\oa-project\\quadrotor\\simulator.py:61\u001b[0m, in \u001b[0;36mSimulatorBase.simulate\u001b[1;34m(self)\u001b[0m\n\u001b[0;32m     59\u001b[0m trajectory \u001b[38;5;241m=\u001b[39m \u001b[38;5;28mself\u001b[39m\u001b[38;5;241m.\u001b[39mtrajectory\u001b[38;5;241m.\u001b[39meval(t)\n\u001b[0;32m     60\u001b[0m command \u001b[38;5;241m=\u001b[39m \u001b[38;5;28mself\u001b[39m\u001b[38;5;241m.\u001b[39mcontroller\u001b[38;5;241m.\u001b[39mstep(t, trajectory, state)\n\u001b[1;32m---> 61\u001b[0m state \u001b[38;5;241m=\u001b[39m \u001b[38;5;28;43mself\u001b[39;49m\u001b[38;5;241;43m.\u001b[39;49m\u001b[43mdynamics\u001b[49m\u001b[38;5;241;43m.\u001b[39;49m\u001b[43mstep\u001b[49m\u001b[43m(\u001b[49m\u001b[43mt\u001b[49m\u001b[43m,\u001b[49m\u001b[43m \u001b[49m\u001b[43mcommand\u001b[49m\u001b[43m)\u001b[49m\n\u001b[0;32m     63\u001b[0m output\u001b[38;5;241m.\u001b[39mappend(SimulatorState(t, state, command, trajectory))\n\u001b[0;32m     65\u001b[0m t \u001b[38;5;241m+\u001b[39m\u001b[38;5;241m=\u001b[39m \u001b[38;5;28mself\u001b[39m\u001b[38;5;241m.\u001b[39mdt\n",
      "Cell \u001b[1;32mIn[5], line 37\u001b[0m, in \u001b[0;36mPlanarQuadrotorDynamics.step\u001b[1;34m(self, t, input)\u001b[0m\n\u001b[0;32m     32\u001b[0m state_vector \u001b[38;5;241m=\u001b[39m \u001b[38;5;28mself\u001b[39m\u001b[38;5;241m.\u001b[39mstate\u001b[38;5;241m.\u001b[39mto_state_vector()\n\u001b[0;32m     33\u001b[0m \u001b[38;5;66;03m#raise NotImplementedError(\"Use the scipy function solve_ivp to integrate to the next timestep\")\u001b[39;00m\n\u001b[0;32m     34\u001b[0m \n\u001b[0;32m     35\u001b[0m \n\u001b[0;32m     36\u001b[0m \u001b[38;5;66;03m# NOTE(roy) solution = sp.integrate.solve_ivp(....\u001b[39;00m\n\u001b[1;32m---> 37\u001b[0m solution \u001b[38;5;241m=\u001b[39m \u001b[43msp\u001b[49m\u001b[38;5;241;43m.\u001b[39;49m\u001b[43mintegrate\u001b[49m\u001b[38;5;241;43m.\u001b[39;49m\u001b[43msolve_ivp\u001b[49m\u001b[43m(\u001b[49m\n\u001b[0;32m     38\u001b[0m \u001b[43m    \u001b[49m\u001b[43mfun\u001b[49m\u001b[38;5;241;43m=\u001b[39;49m\u001b[43mstate_derivative\u001b[49m\u001b[43m,\u001b[49m\n\u001b[0;32m     39\u001b[0m \u001b[43m    \u001b[49m\u001b[43mt_span\u001b[49m\u001b[38;5;241;43m=\u001b[39;49m\u001b[43m[\u001b[49m\u001b[38;5;241;43m0\u001b[39;49m\u001b[43m,\u001b[49m\u001b[43m \u001b[49m\u001b[38;5;28;43mself\u001b[39;49m\u001b[38;5;241;43m.\u001b[39;49m\u001b[43mdt\u001b[49m\u001b[43m]\u001b[49m\u001b[43m,\u001b[49m\n\u001b[0;32m     40\u001b[0m \u001b[43m    \u001b[49m\u001b[43my0\u001b[49m\u001b[38;5;241;43m=\u001b[39;49m\u001b[43mstate_vector\u001b[49m\u001b[43m,\u001b[49m\n\u001b[0;32m     41\u001b[0m \u001b[43m    \u001b[49m\u001b[43mmethod\u001b[49m\u001b[38;5;241;43m=\u001b[39;49m\u001b[38;5;124;43m'\u001b[39;49m\u001b[38;5;124;43mRK45\u001b[39;49m\u001b[38;5;124;43m'\u001b[39;49m\n\u001b[0;32m     42\u001b[0m \u001b[43m\u001b[49m\u001b[43m)\u001b[49m\n\u001b[0;32m     44\u001b[0m \u001b[38;5;28mself\u001b[39m\u001b[38;5;241m.\u001b[39mstate \u001b[38;5;241m=\u001b[39m QuadrotorState\u001b[38;5;241m.\u001b[39mfrom_state_vector(solution[\u001b[38;5;124m'\u001b[39m\u001b[38;5;124my\u001b[39m\u001b[38;5;124m'\u001b[39m][:, \u001b[38;5;241m-\u001b[39m\u001b[38;5;241m1\u001b[39m])\n\u001b[0;32m     45\u001b[0m \u001b[38;5;28;01mreturn\u001b[39;00m \u001b[38;5;28mself\u001b[39m\u001b[38;5;241m.\u001b[39mstate\n",
      "File \u001b[1;32m~\\.virtualenvs\\oa-project-mOKUbq0B\\Lib\\site-packages\\scipy\\integrate\\_ivp\\ivp.py:616\u001b[0m, in \u001b[0;36msolve_ivp\u001b[1;34m(fun, t_span, y0, method, t_eval, dense_output, events, vectorized, args, **options)\u001b[0m\n\u001b[0;32m    613\u001b[0m \u001b[38;5;28;01mif\u001b[39;00m method \u001b[38;5;129;01min\u001b[39;00m METHODS:\n\u001b[0;32m    614\u001b[0m     method \u001b[38;5;241m=\u001b[39m METHODS[method]\n\u001b[1;32m--> 616\u001b[0m solver \u001b[38;5;241m=\u001b[39m \u001b[43mmethod\u001b[49m\u001b[43m(\u001b[49m\u001b[43mfun\u001b[49m\u001b[43m,\u001b[49m\u001b[43m \u001b[49m\u001b[43mt0\u001b[49m\u001b[43m,\u001b[49m\u001b[43m \u001b[49m\u001b[43my0\u001b[49m\u001b[43m,\u001b[49m\u001b[43m \u001b[49m\u001b[43mtf\u001b[49m\u001b[43m,\u001b[49m\u001b[43m \u001b[49m\u001b[43mvectorized\u001b[49m\u001b[38;5;241;43m=\u001b[39;49m\u001b[43mvectorized\u001b[49m\u001b[43m,\u001b[49m\u001b[43m \u001b[49m\u001b[38;5;241;43m*\u001b[39;49m\u001b[38;5;241;43m*\u001b[39;49m\u001b[43moptions\u001b[49m\u001b[43m)\u001b[49m\n\u001b[0;32m    618\u001b[0m \u001b[38;5;28;01mif\u001b[39;00m t_eval \u001b[38;5;129;01mis\u001b[39;00m \u001b[38;5;28;01mNone\u001b[39;00m:\n\u001b[0;32m    619\u001b[0m     ts \u001b[38;5;241m=\u001b[39m [t0]\n",
      "File \u001b[1;32m~\\.virtualenvs\\oa-project-mOKUbq0B\\Lib\\site-packages\\scipy\\integrate\\_ivp\\rk.py:94\u001b[0m, in \u001b[0;36mRungeKutta.__init__\u001b[1;34m(self, fun, t0, y0, t_bound, max_step, rtol, atol, vectorized, first_step, **extraneous)\u001b[0m\n\u001b[0;32m     92\u001b[0m \u001b[38;5;28mself\u001b[39m\u001b[38;5;241m.\u001b[39mmax_step \u001b[38;5;241m=\u001b[39m validate_max_step(max_step)\n\u001b[0;32m     93\u001b[0m \u001b[38;5;28mself\u001b[39m\u001b[38;5;241m.\u001b[39mrtol, \u001b[38;5;28mself\u001b[39m\u001b[38;5;241m.\u001b[39matol \u001b[38;5;241m=\u001b[39m validate_tol(rtol, atol, \u001b[38;5;28mself\u001b[39m\u001b[38;5;241m.\u001b[39mn)\n\u001b[1;32m---> 94\u001b[0m \u001b[38;5;28mself\u001b[39m\u001b[38;5;241m.\u001b[39mf \u001b[38;5;241m=\u001b[39m \u001b[38;5;28;43mself\u001b[39;49m\u001b[38;5;241;43m.\u001b[39;49m\u001b[43mfun\u001b[49m\u001b[43m(\u001b[49m\u001b[38;5;28;43mself\u001b[39;49m\u001b[38;5;241;43m.\u001b[39;49m\u001b[43mt\u001b[49m\u001b[43m,\u001b[49m\u001b[43m \u001b[49m\u001b[38;5;28;43mself\u001b[39;49m\u001b[38;5;241;43m.\u001b[39;49m\u001b[43my\u001b[49m\u001b[43m)\u001b[49m\n\u001b[0;32m     95\u001b[0m \u001b[38;5;28;01mif\u001b[39;00m first_step \u001b[38;5;129;01mis\u001b[39;00m \u001b[38;5;28;01mNone\u001b[39;00m:\n\u001b[0;32m     96\u001b[0m     \u001b[38;5;28mself\u001b[39m\u001b[38;5;241m.\u001b[39mh_abs \u001b[38;5;241m=\u001b[39m select_initial_step(\n\u001b[0;32m     97\u001b[0m         \u001b[38;5;28mself\u001b[39m\u001b[38;5;241m.\u001b[39mfun, \u001b[38;5;28mself\u001b[39m\u001b[38;5;241m.\u001b[39mt, \u001b[38;5;28mself\u001b[39m\u001b[38;5;241m.\u001b[39my, \u001b[38;5;28mself\u001b[39m\u001b[38;5;241m.\u001b[39mf, \u001b[38;5;28mself\u001b[39m\u001b[38;5;241m.\u001b[39mdirection,\n\u001b[0;32m     98\u001b[0m         \u001b[38;5;28mself\u001b[39m\u001b[38;5;241m.\u001b[39merror_estimator_order, \u001b[38;5;28mself\u001b[39m\u001b[38;5;241m.\u001b[39mrtol, \u001b[38;5;28mself\u001b[39m\u001b[38;5;241m.\u001b[39matol)\n",
      "File \u001b[1;32m~\\.virtualenvs\\oa-project-mOKUbq0B\\Lib\\site-packages\\scipy\\integrate\\_ivp\\base.py:154\u001b[0m, in \u001b[0;36mOdeSolver.__init__.<locals>.fun\u001b[1;34m(t, y)\u001b[0m\n\u001b[0;32m    152\u001b[0m \u001b[38;5;28;01mdef\u001b[39;00m \u001b[38;5;21mfun\u001b[39m(t, y):\n\u001b[0;32m    153\u001b[0m     \u001b[38;5;28mself\u001b[39m\u001b[38;5;241m.\u001b[39mnfev \u001b[38;5;241m+\u001b[39m\u001b[38;5;241m=\u001b[39m \u001b[38;5;241m1\u001b[39m\n\u001b[1;32m--> 154\u001b[0m     \u001b[38;5;28;01mreturn\u001b[39;00m \u001b[38;5;28;43mself\u001b[39;49m\u001b[38;5;241;43m.\u001b[39;49m\u001b[43mfun_single\u001b[49m\u001b[43m(\u001b[49m\u001b[43mt\u001b[49m\u001b[43m,\u001b[49m\u001b[43m \u001b[49m\u001b[43my\u001b[49m\u001b[43m)\u001b[49m\n",
      "File \u001b[1;32m~\\.virtualenvs\\oa-project-mOKUbq0B\\Lib\\site-packages\\scipy\\integrate\\_ivp\\base.py:23\u001b[0m, in \u001b[0;36mcheck_arguments.<locals>.fun_wrapped\u001b[1;34m(t, y)\u001b[0m\n\u001b[0;32m     22\u001b[0m \u001b[38;5;28;01mdef\u001b[39;00m \u001b[38;5;21mfun_wrapped\u001b[39m(t, y):\n\u001b[1;32m---> 23\u001b[0m     \u001b[38;5;28;01mreturn\u001b[39;00m np\u001b[38;5;241m.\u001b[39masarray(\u001b[43mfun\u001b[49m\u001b[43m(\u001b[49m\u001b[43mt\u001b[49m\u001b[43m,\u001b[49m\u001b[43m \u001b[49m\u001b[43my\u001b[49m\u001b[43m)\u001b[49m, dtype\u001b[38;5;241m=\u001b[39mdtype)\n",
      "Cell \u001b[1;32mIn[5], line 26\u001b[0m, in \u001b[0;36mPlanarQuadrotorDynamics.step.<locals>.state_derivative\u001b[1;34m(t, state)\u001b[0m\n\u001b[0;32m     25\u001b[0m \u001b[38;5;28;01mdef\u001b[39;00m \u001b[38;5;21mstate_derivative\u001b[39m(t: \u001b[38;5;28mfloat\u001b[39m, state: np\u001b[38;5;241m.\u001b[39mndarray) \u001b[38;5;241m-\u001b[39m\u001b[38;5;241m>\u001b[39m np\u001b[38;5;241m.\u001b[39mndarray:\n\u001b[1;32m---> 26\u001b[0m     \u001b[38;5;28;01mreturn\u001b[39;00m \u001b[43mPlanarQuadrotorDynamics\u001b[49m\u001b[38;5;241;43m.\u001b[39;49m\u001b[43mstate_derivative\u001b[49m\u001b[43m(\u001b[49m\n\u001b[0;32m     27\u001b[0m \u001b[43m        \u001b[49m\u001b[43mQuadrotorState\u001b[49m\u001b[38;5;241;43m.\u001b[39;49m\u001b[43mfrom_state_vector\u001b[49m\u001b[43m(\u001b[49m\u001b[43mstate\u001b[49m\u001b[43m)\u001b[49m\u001b[43m,\u001b[49m\n\u001b[0;32m     28\u001b[0m \u001b[43m        \u001b[49m\u001b[43mu1\u001b[49m\u001b[43m,\u001b[49m\n\u001b[0;32m     29\u001b[0m \u001b[43m        \u001b[49m\u001b[43mu2\u001b[49m\u001b[43m,\u001b[49m\n\u001b[0;32m     30\u001b[0m \u001b[43m    \u001b[49m\u001b[43m)\u001b[49m\u001b[38;5;241m.\u001b[39mto_state_vector()\n",
      "Cell \u001b[1;32mIn[5], line 56\u001b[0m, in \u001b[0;36mPlanarQuadrotorDynamics.state_derivative\u001b[1;34m(state, u1, u2)\u001b[0m\n\u001b[0;32m     52\u001b[0m phi \u001b[38;5;241m=\u001b[39m state\u001b[38;5;241m.\u001b[39morientation\u001b[38;5;241m.\u001b[39mto_yaw_pitch_roll()[\u001b[38;5;241m1\u001b[39m]\n\u001b[0;32m     53\u001b[0m accel \u001b[38;5;241m=\u001b[39m np\u001b[38;5;241m.\u001b[39marray([\u001b[38;5;241m-\u001b[39mnp\u001b[38;5;241m.\u001b[39msin(phi) \u001b[38;5;241m/\u001b[39m p\u001b[38;5;241m.\u001b[39mmass \u001b[38;5;241m*\u001b[39m u1,\n\u001b[0;32m     54\u001b[0m                  \u001b[38;5;241m0\u001b[39m,\n\u001b[0;32m     55\u001b[0m                  np\u001b[38;5;241m.\u001b[39mcos(phi) \u001b[38;5;241m/\u001b[39m p\u001b[38;5;241m.\u001b[39mmass \u001b[38;5;241m*\u001b[39m u1 \u001b[38;5;241m-\u001b[39m p\u001b[38;5;241m.\u001b[39mg])\n\u001b[1;32m---> 56\u001b[0m angular_accel \u001b[38;5;241m=\u001b[39m \u001b[43mnp\u001b[49m\u001b[38;5;241;43m.\u001b[39;49m\u001b[43mlinalg\u001b[49m\u001b[38;5;241;43m.\u001b[39;49m\u001b[43minv\u001b[49m\u001b[43m(\u001b[49m\u001b[43mp\u001b[49m\u001b[38;5;241;43m.\u001b[39;49m\u001b[43minertia\u001b[49m\u001b[43m)\u001b[49m \u001b[38;5;241m*\u001b[39m (u2 \u001b[38;5;241m-\u001b[39m np\u001b[38;5;241m.\u001b[39mcross(state\u001b[38;5;241m.\u001b[39mangular_veloctiy, p\u001b[38;5;241m.\u001b[39minertia \u001b[38;5;241m*\u001b[39m state\u001b[38;5;241m.\u001b[39mangular_velocity))\n\u001b[0;32m     58\u001b[0m \u001b[38;5;66;03m# NOTE(roy) this might look a little confusing at first glance, but we're populating DERIVATIVES\u001b[39;00m\n\u001b[0;32m     59\u001b[0m \u001b[38;5;66;03m# of the state here! So position -> velocity, velocity -> acceleration, etc...\u001b[39;00m\n\u001b[0;32m     60\u001b[0m \u001b[38;5;66;03m# If you can think of a more readable way to do this (e.g. defining a QuadrotorStateDerivative class)\u001b[39;00m\n\u001b[0;32m     61\u001b[0m \u001b[38;5;66;03m# feel free to open a pull-request into the upstream repository!\u001b[39;00m\n\u001b[0;32m     62\u001b[0m state_derivative \u001b[38;5;241m=\u001b[39m QuadrotorState(\n\u001b[0;32m     63\u001b[0m     position\u001b[38;5;241m=\u001b[39mstate\u001b[38;5;241m.\u001b[39mvelocity,\n\u001b[0;32m     64\u001b[0m     velocity\u001b[38;5;241m=\u001b[39maccel,\n\u001b[0;32m     65\u001b[0m     orientation\u001b[38;5;241m=\u001b[39mdRot3(state\u001b[38;5;241m.\u001b[39morientation, state\u001b[38;5;241m.\u001b[39mangular_velocity),\n\u001b[0;32m     66\u001b[0m     angular_velocity\u001b[38;5;241m=\u001b[39mangular_accel,\n\u001b[0;32m     67\u001b[0m )\n",
      "File \u001b[1;32m~\\.virtualenvs\\oa-project-mOKUbq0B\\Lib\\site-packages\\numpy\\linalg\\linalg.py:555\u001b[0m, in \u001b[0;36minv\u001b[1;34m(a)\u001b[0m\n\u001b[0;32m    494\u001b[0m \u001b[38;5;250m\u001b[39m\u001b[38;5;124;03m\"\"\"\u001b[39;00m\n\u001b[0;32m    495\u001b[0m \u001b[38;5;124;03mCompute the (multiplicative) inverse of a matrix.\u001b[39;00m\n\u001b[0;32m    496\u001b[0m \n\u001b[1;32m   (...)\u001b[0m\n\u001b[0;32m    552\u001b[0m \n\u001b[0;32m    553\u001b[0m \u001b[38;5;124;03m\"\"\"\u001b[39;00m\n\u001b[0;32m    554\u001b[0m a, wrap \u001b[38;5;241m=\u001b[39m _makearray(a)\n\u001b[1;32m--> 555\u001b[0m \u001b[43m_assert_stacked_2d\u001b[49m\u001b[43m(\u001b[49m\u001b[43ma\u001b[49m\u001b[43m)\u001b[49m\n\u001b[0;32m    556\u001b[0m _assert_stacked_square(a)\n\u001b[0;32m    557\u001b[0m t, result_t \u001b[38;5;241m=\u001b[39m _commonType(a)\n",
      "File \u001b[1;32m~\\.virtualenvs\\oa-project-mOKUbq0B\\Lib\\site-packages\\numpy\\linalg\\linalg.py:206\u001b[0m, in \u001b[0;36m_assert_stacked_2d\u001b[1;34m(*arrays)\u001b[0m\n\u001b[0;32m    204\u001b[0m \u001b[38;5;28;01mfor\u001b[39;00m a \u001b[38;5;129;01min\u001b[39;00m arrays:\n\u001b[0;32m    205\u001b[0m     \u001b[38;5;28;01mif\u001b[39;00m a\u001b[38;5;241m.\u001b[39mndim \u001b[38;5;241m<\u001b[39m \u001b[38;5;241m2\u001b[39m:\n\u001b[1;32m--> 206\u001b[0m         \u001b[38;5;28;01mraise\u001b[39;00m LinAlgError(\u001b[38;5;124m'\u001b[39m\u001b[38;5;132;01m%d\u001b[39;00m\u001b[38;5;124m-dimensional array given. Array must be \u001b[39m\u001b[38;5;124m'\u001b[39m\n\u001b[0;32m    207\u001b[0m                 \u001b[38;5;124m'\u001b[39m\u001b[38;5;124mat least two-dimensional\u001b[39m\u001b[38;5;124m'\u001b[39m \u001b[38;5;241m%\u001b[39m a\u001b[38;5;241m.\u001b[39mndim)\n",
      "\u001b[1;31mLinAlgError\u001b[0m: 0-dimensional array given. Array must be at least two-dimensional"
     ]
    }
   ],
   "source": [
    "# NOTE(roy) play with this variable and see what happens!\n",
    "initial_state = QuadrotorState(\n",
    "    position=np.zeros(3),\n",
    "    velocity=np.array([0, 0, 0]),\n",
    "    orientation=Rot3.from_yaw_pitch_roll(0, 0, 0),\n",
    "    angular_velocity=np.array([0, 0, 0]),\n",
    ")\n",
    "\n",
    "run_and_render(initial_state, 1.0)"
   ]
  },
  {
   "cell_type": "code",
   "execution_count": 10,
   "id": "62d16b9f-2f8f-4837-9352-0c2b64f1175f",
   "metadata": {},
   "outputs": [],
   "source": [
    "def run_and_render_hover(initial_state: QuadrotorState, t_total: int = 0.5):\n",
    "    sim = SimulatorBase(\n",
    "        dt=0.01,\n",
    "        dynamics=PlanarQuadrotorDynamics(),\n",
    "        controller=HoverController(),\n",
    "        trajectory=EmptyTrajectory(),\n",
    "        initial_state=initial_state,\n",
    "        t_total=t_total,\n",
    "    )\n",
    "    \n",
    "    # Run the simulator\n",
    "    output = sim.simulate()\n",
    "\n",
    "    # K3D renderer\n",
    "    plot = animate_k3d(output)\n",
    "    \n",
    "    plot.display()\n",
    "    plot.start_auto_play()"
   ]
  },
  {
   "cell_type": "code",
   "execution_count": 11,
   "id": "48dcee8a-c6f5-447a-a3a1-8973acc49394",
   "metadata": {},
   "outputs": [
    {
     "data": {
      "application/vnd.jupyter.widget-view+json": {
       "model_id": "da9f93ed6b9d4db48ff69e6e0e6e8509",
       "version_major": 2,
       "version_minor": 0
      },
      "text/plain": [
       "Output()"
      ]
     },
     "metadata": {},
     "output_type": "display_data"
    }
   ],
   "source": [
    "initial_state_hover = QuadrotorState(\n",
    "    position=np.zeros(3),\n",
    "    velocity=np.array([0, 0, 0]),\n",
    "    orientation=Rot3.from_yaw_pitch_roll(0, 0, 0),\n",
    "    angular_velocity=np.array([0, 0, 0]),\n",
    ")\n",
    "\n",
    "run_and_render_hover(initial_state_hover, 1.0)"
   ]
  },
  {
   "cell_type": "code",
   "execution_count": 12,
   "id": "0662bddf-0298-4e20-aa0d-96ffdb4ff6e0",
   "metadata": {},
   "outputs": [],
   "source": [
    "def run_and_render_imbalanced(initial_state: QuadrotorState, t_total: int = 0.5):\n",
    "    sim = SimulatorBase(\n",
    "        dt=0.01,\n",
    "        dynamics=PlanarQuadrotorDynamics(),\n",
    "        controller=ImbalancedController(),\n",
    "        trajectory=EmptyTrajectory(),\n",
    "        initial_state=initial_state,\n",
    "        t_total=t_total,\n",
    "    )\n",
    "    \n",
    "    # Run the simulator\n",
    "    output = sim.simulate()\n",
    "\n",
    "    # K3D renderer\n",
    "    plot = animate_k3d(output)\n",
    "    \n",
    "    plot.display()\n",
    "    plot.start_auto_play()"
   ]
  },
  {
   "cell_type": "code",
   "execution_count": 13,
   "id": "8d0be1e0-43af-4ed0-aeec-2e470fb1d530",
   "metadata": {},
   "outputs": [
    {
     "data": {
      "application/vnd.jupyter.widget-view+json": {
       "model_id": "e16a5304ac154665a6c070a914225f64",
       "version_major": 2,
       "version_minor": 0
      },
      "text/plain": [
       "Output()"
      ]
     },
     "metadata": {},
     "output_type": "display_data"
    }
   ],
   "source": [
    "initial_state_imbalanced = QuadrotorState(\n",
    "    position=np.zeros(3),\n",
    "    velocity=np.array([0, 0, 0]),\n",
    "    orientation=Rot3.from_yaw_pitch_roll(0, 0, 0),\n",
    "    angular_velocity=np.array([0, 0, 0]),\n",
    ")\n",
    "\n",
    "run_and_render_imbalanced(initial_state_imbalanced, 1.0)"
   ]
  },
  {
   "cell_type": "markdown",
   "id": "7b1a827d-5904-4dc2-b569-b52c2f1de892",
   "metadata": {},
   "source": [
    "### Does the simulated model make any sense?\n",
    "If all is well, you should see the quadrotor falling down because of gravity, just as we saw in the slides.\n",
    "\n",
    "Now try some experiments for yourself and describe whether the behavior is as expected or whether there is anything wrong with your model, ideas to try:\n",
    "- If you apply an initial upward velocity, what happens?\n",
    "- If you apply an initial _angular_ velocity, what happens?\n",
    "- If you spin up both the rotors, what happens (try around 600 rad/s as a start)?\n",
    "- If you spin one of the rotors faster than the others, what happens?"
   ]
  },
  {
   "cell_type": "markdown",
   "id": "a29d0a11-41ba-4efd-a91f-f1551cdbe8e4",
   "metadata": {},
   "source": [
    "### Commit your updated notebook to your fork!"
   ]
  },
  {
   "cell_type": "code",
   "execution_count": null,
   "id": "5fe58b7a-af36-4d53-9e84-91783ba68a2f",
   "metadata": {},
   "outputs": [],
   "source": []
  }
 ],
 "metadata": {
  "kernelspec": {
   "display_name": "Python 3 (ipykernel)",
   "language": "python",
   "name": "python3"
  },
  "language_info": {
   "codemirror_mode": {
    "name": "ipython",
    "version": 3
   },
   "file_extension": ".py",
   "mimetype": "text/x-python",
   "name": "python",
   "nbconvert_exporter": "python",
   "pygments_lexer": "ipython3",
   "version": "3.12.5"
  }
 },
 "nbformat": 4,
 "nbformat_minor": 5
}
