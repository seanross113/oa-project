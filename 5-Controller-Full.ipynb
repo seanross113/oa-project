{
 "cells": [
  {
   "cell_type": "code",
   "execution_count": null,
   "id": "2e2d9694-0169-4b4e-8234-d287f5737115",
   "metadata": {},
   "outputs": [],
   "source": [
    "import numpy as np\n",
    "import scipy as sp"
   ]
  },
  {
   "cell_type": "code",
   "execution_count": null,
   "id": "b2cdc081-ec7f-4628-b878-cb8de4e9660d",
   "metadata": {},
   "outputs": [],
   "source": [
    "from quadrotor.dynamics import QuadrotorDynamicsBase, QuadrotorState\n",
    "from quadrotor.controller import ControllerBase, QuadrotorCommands\n",
    "from quadrotor.trajectory import TrajectoryBase, TrajectoryState"
   ]
  },
  {
   "cell_type": "code",
   "execution_count": null,
   "id": "0610fe28-f931-4810-9e95-543ceed1844c",
   "metadata": {},
   "outputs": [],
   "source": [
    "from sym import Rot3\n",
    "\n",
    "def dRot3(R: Rot3, omega: np.ndarray) -> Rot3:\n",
    "    \"\"\"\n",
    "    NOTE(roy): If interested, we can discuss the math here later. There are other\n",
    "    ways of doing this but to keep the ode_int formulation, we specifically require\n",
    "    dq/dt. Refer to 'Baseile Graf - Quaternions and Dynamics' or (for intuition)\n",
    "    https://math.stackexchange.com/questions/1896379/how-to-use-the-quaternion-derivative\n",
    "    \"\"\"\n",
    "    quat = np.array(R.to_storage())  # Convert to raw quaternion\n",
    "    (q0, q1, q2, q3) = quat  # xyzw storage, see https://symforce.org/api-gen-cpp/class/classsym_1_1Rot3.html\n",
    "\n",
    "    G = np.array([[ q3,  q2, -q1, -q0],\n",
    "                [-q2,  q3,  q0, -q1],\n",
    "                [ q1, -q0,  q3, -q2]])\n",
    "    quat_dot = (G.T @ omega) / 2\n",
    "    return Rot3.from_storage(quat_dot)"
   ]
  },
  {
   "cell_type": "code",
   "execution_count": null,
   "id": "e3fb020e-cedc-43c7-8702-7c5b53b8e3eb",
   "metadata": {},
   "outputs": [],
   "source": [
    "from dataclasses import dataclass, field\n",
    "\n",
    "@dataclass\n",
    "class Params:\n",
    "    \"\"\"A little utility class to hold our quadrotor parameters\"\"\"\n",
    "    mass: float = 1.352  # [kg]\n",
    "\n",
    "    # NOTE(roy) this is a matrix now as discussed!\n",
    "    # NOTE(roy) don't get scared by the field/default_factory thing! It's just a way to do default field initialization for dataclasses,\n",
    "    # see https://docs.python.org/3/library/dataclasses.html. Don't worry about it!\n",
    "    inertia: np.ndarray = field(default_factory=lambda: np.array([\n",
    "        [9.8e-3, 0, 0],\n",
    "        [0, 10.02e-3, 0],\n",
    "        [0, 0, 18.6e-3],\n",
    "    ]))\n",
    "\n",
    "    rotor_diameter: float = 10 * 0.0254  # [m] 10 inches\n",
    "\n",
    "    static_thrust_coefficient: float = 0.14553  # [-] Thrust coefficient\n",
    "    static_torque_coefficient: float = 0.01047  # [-] Torque coefficient\n",
    "\n",
    "    # NOTE(roy) assume this is the same front-to-back and left-to-right\n",
    "    arm_length: float = 0.3814 / 2.0  # [m] Arm length\n",
    "\n",
    "    # Universal constants\n",
    "    g: float = 9.80665  # [m/s2] Gravity\n",
    "    rho: float = 1.225  # [kg/m3] Sea-level density\n",
    "\n",
    "    def rotor_model(self, static_coefficient: float) -> float:\n",
    "        # NOTE(roy) I'm just including this for completeness sake, this means we can e.g. see how air density\n",
    "        # influences our simulation. Refer to this source for derivation:\n",
    "        # https://web.mit.edu/16.unified/www/FALL/thermodynamics/notes/node86.html\n",
    "        return self.rho * static_coefficient * (self.rotor_diameter ** 4) / (4 * np.pi ** 2)\n",
    "\n",
    "    # NOTE(roy) if you're unsure what @property decorators do: they make it so that we can call k_thrust as if it was just a class\n",
    "    # variable. I.e. we'd write params.k_thrust now, rather than params.k_thrust()\n",
    "    @property\n",
    "    def k_thrust(self):\n",
    "        return self.rotor_model(self.static_thrust_coefficient)\n",
    "\n",
    "    @property\n",
    "    def k_torque(self):\n",
    "        return self.rotor_model(self.static_torque_coefficient)\n",
    "\n",
    "# Simply treat as a global\n",
    "p = Params()"
   ]
  },
  {
   "cell_type": "markdown",
   "id": "00214c95-a63b-4d47-bf7e-9687d1d68b52",
   "metadata": {},
   "source": [
    "### Finishing the controller\n",
    "In this notebook, you'll take your previous implementation where we just controller altitude (z-position) and expand it to build the full position-attitude loop.\n",
    "\n",
    "**Note that I updated the controller params class with some extra parameters!**\n",
    "\n",
    "#### Recommended steps\n",
    "- Copy your 3D quadrotor model\n",
    "- Copy your controller implementation\n",
    "- Expand the controller class\n",
    "    - Compute the desired roll/pitch using the equations from the lecture\n",
    "    - Compute the attitude errors\n",
    "    - Compute the desired angular acceleration\n",
    "    - Compute `u_2`\n",
    "    - Tune your system (the gains provided _should_ provide a relatively stable starting point!)"
   ]
  },
  {
   "cell_type": "markdown",
   "id": "cb3d307d-da05-44b2-9fe5-ff2e17de9bc4",
   "metadata": {},
   "source": [
    "### The dynamics"
   ]
  },
  {
   "cell_type": "code",
   "execution_count": null,
   "id": "c5eaf6e3-647e-4d34-9708-b23e93d24a25",
   "metadata": {},
   "outputs": [],
   "source": [
    "# Copy your dynamics here!\n",
    "raise NotImplementedError(\"Dynamics not implemented!\")"
   ]
  },
  {
   "cell_type": "markdown",
   "id": "4f9ba9d3-8567-47a8-99dd-bb866fb4ad2b",
   "metadata": {},
   "source": [
    "### The controller"
   ]
  },
  {
   "cell_type": "code",
   "execution_count": null,
   "id": "18f7f265-951c-4df8-84de-327587df84e5",
   "metadata": {},
   "outputs": [],
   "source": [
    "@dataclass\n",
    "class ControllerParams:\n",
    "    \"\"\"The same as above but for the controller gains\"\"\"\n",
    "\n",
    "    # NOTE(roy) diag just means we get a matrix with these values on the diagonal,\n",
    "    # so these are 3x3 matrices (print them if you're unsure!)\n",
    "    # We use this formulation because it makes the math a bit more readable later on!\n",
    "    K_p: np.ndarray = field(default_factory=lambda: np.diag([1, 1, 100]))\n",
    "    K_d: np.ndarray = field(default_factory=lambda: np.diag([0.5, 0.5, 10]))\n",
    "\n",
    "    # Added gains for the attitude controller\n",
    "    Ka_p: np.ndarray = field(default_factory=lambda: np.diag([300, 300, 50]))\n",
    "    Ka_d: np.ndarray = field(default_factory=lambda: np.diag([50, 50, 20]))\n",
    "\n",
    "    # Min/max rotor rates!\n",
    "    rotor_rate_min: float = 180\n",
    "    rotor_rate_max: float = 600\n",
    "\n",
    "controller_p = ControllerParams()"
   ]
  },
  {
   "cell_type": "code",
   "execution_count": null,
   "id": "2e3538de-d020-47bc-a028-0f2a104f7b39",
   "metadata": {},
   "outputs": [],
   "source": [
    "# Write your controller here!\n",
    "raise NotImplementedError(\"Controller not implemented!\")"
   ]
  },
  {
   "cell_type": "markdown",
   "id": "e9b945e2-f8cd-4fbd-9e8e-491a2e3ea825",
   "metadata": {},
   "source": [
    "### The trajectory\n",
    "Just something simple, mess around with it!"
   ]
  },
  {
   "cell_type": "code",
   "execution_count": null,
   "id": "128e7c3e-3b65-44dd-bea7-3c0a48184e20",
   "metadata": {},
   "outputs": [],
   "source": [
    "class JumpTrajectory(TrajectoryBase):\n",
    "    def eval(self, t: float):\n",
    "        x = 0 if t < 1.0 or t > 5.0 else 1.0\n",
    "        y = 0 if t < 2.0 or t > 5.0 else 1.0\n",
    "        position = np.array([x, y, 0])\n",
    "\n",
    "        yaw_rate = 0.5\n",
    "        yaw = yaw_rate * t\n",
    "        return TrajectoryState(t, position=position, yaw=yaw, yaw_rate=yaw_rate)"
   ]
  },
  {
   "cell_type": "code",
   "execution_count": null,
   "id": "4c71f459-6106-4d8c-89dd-df93eba630ad",
   "metadata": {},
   "outputs": [],
   "source": [
    "from quadrotor.simulator import SimulatorBase, SimulatorState\n",
    "\n",
    "# This might be slow to run the first time!\n",
    "from quadrotor.renderer import animate_k3d"
   ]
  },
  {
   "cell_type": "code",
   "execution_count": null,
   "id": "876309da-841b-4357-99b5-0f8e37e35e70",
   "metadata": {},
   "outputs": [],
   "source": [
    "def run_and_render(initial_state: QuadrotorState, t_total: int = 2.0):\n",
    "    sim = SimulatorBase(\n",
    "        dt=0.005,\n",
    "        dynamics=FullQuadrotorDynamics(),\n",
    "        controller=Controller(),\n",
    "        trajectory=JumpTrajectory(),\n",
    "        initial_state=initial_state,\n",
    "        t_total=t_total,\n",
    "    )\n",
    "    \n",
    "    # Run the simulator\n",
    "    output = sim.simulate()\n",
    "\n",
    "    # K3D renderer\n",
    "    plot = animate_k3d(output)\n",
    "    \n",
    "    plot.display()\n",
    "    plot.start_auto_play()"
   ]
  },
  {
   "cell_type": "code",
   "execution_count": null,
   "id": "45e8c4f7-c031-4824-a8d6-bf6b6b7a0e10",
   "metadata": {},
   "outputs": [],
   "source": [
    "# NOTE(roy) play with this variable and see what happens!\n",
    "initial_state = QuadrotorState(\n",
    "    position=np.zeros(3),\n",
    "    velocity=np.array([0, 0, 0]),\n",
    "    orientation=Rot3.from_yaw_pitch_roll(0, 0, 0),\n",
    "    angular_velocity=np.zeros(3),\n",
    ")\n",
    "\n",
    "run_and_render(initial_state, 10.0)"
   ]
  },
  {
   "cell_type": "markdown",
   "id": "77796509-2009-453e-9263-930a80d53ca5",
   "metadata": {},
   "source": [
    "### Looking at the controller behavior\n",
    "If all is well, the quadrotor should follow the trajectory!\n",
    "\n",
    "Try some experiments:\n",
    "- Can you make the controller more/less damped and faster/slower to respond?\n",
    "- Can you write a trajectory that has feasible velocities/positions?\n",
    "    - Hint: the trajectory that's currently there is infeasible, why?"
   ]
  },
  {
   "cell_type": "markdown",
   "id": "0d508b90-8de3-4ce2-bd54-284774a957ad",
   "metadata": {},
   "source": [
    "### Commit your updated notebook to your fork!"
   ]
  }
 ],
 "metadata": {
  "kernelspec": {
   "display_name": "Python 3 (ipykernel)",
   "language": "python",
   "name": "python3"
  },
  "language_info": {
   "codemirror_mode": {
    "name": "ipython",
    "version": 3
   },
   "file_extension": ".py",
   "mimetype": "text/x-python",
   "name": "python",
   "nbconvert_exporter": "python",
   "pygments_lexer": "ipython3",
   "version": "3.12.4"
  }
 },
 "nbformat": 4,
 "nbformat_minor": 5
}
