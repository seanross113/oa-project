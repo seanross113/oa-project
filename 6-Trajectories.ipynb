{
 "cells": [
  {
   "cell_type": "code",
   "execution_count": null,
   "id": "2e2d9694-0169-4b4e-8234-d287f5737115",
   "metadata": {},
   "outputs": [],
   "source": [
    "import numpy as np\n",
    "import scipy as sp"
   ]
  },
  {
   "cell_type": "code",
   "execution_count": null,
   "id": "b2cdc081-ec7f-4628-b878-cb8de4e9660d",
   "metadata": {},
   "outputs": [],
   "source": [
    "from quadrotor.dynamics import QuadrotorDynamicsBase, QuadrotorState\n",
    "from quadrotor.controller import ControllerBase, QuadrotorCommands\n",
    "from quadrotor.trajectory import TrajectoryBase, TrajectoryState"
   ]
  },
  {
   "cell_type": "code",
   "execution_count": null,
   "id": "0610fe28-f931-4810-9e95-543ceed1844c",
   "metadata": {},
   "outputs": [],
   "source": [
    "from sym import Rot3\n",
    "\n",
    "def dRot3(R: Rot3, omega: np.ndarray) -> Rot3:\n",
    "    \"\"\"\n",
    "    NOTE(roy): If interested, we can discuss the math here later. There are other\n",
    "    ways of doing this but to keep the ode_int formulation, we specifically require\n",
    "    dq/dt. Refer to 'Baseile Graf - Quaternions and Dynamics' or (for intuition)\n",
    "    https://math.stackexchange.com/questions/1896379/how-to-use-the-quaternion-derivative\n",
    "    \"\"\"\n",
    "    quat = np.array(R.to_storage())  # Convert to raw quaternion\n",
    "    (q0, q1, q2, q3) = quat  # xyzw storage, see https://symforce.org/api-gen-cpp/class/classsym_1_1Rot3.html\n",
    "\n",
    "    G = np.array([[ q3,  q2, -q1, -q0],\n",
    "                [-q2,  q3,  q0, -q1],\n",
    "                [ q1, -q0,  q3, -q2]])\n",
    "    quat_dot = (G.T @ omega) / 2\n",
    "    return Rot3.from_storage(quat_dot)"
   ]
  },
  {
   "cell_type": "code",
   "execution_count": null,
   "id": "e3fb020e-cedc-43c7-8702-7c5b53b8e3eb",
   "metadata": {},
   "outputs": [],
   "source": [
    "from dataclasses import dataclass, field\n",
    "\n",
    "@dataclass\n",
    "class Params:\n",
    "    \"\"\"A little utility class to hold our quadrotor parameters\"\"\"\n",
    "    mass: float = 1.352  # [kg]\n",
    "\n",
    "    # NOTE(roy) this is a matrix now as discussed!\n",
    "    # NOTE(roy) don't get scared by the field/default_factory thing! It's just a way to do default field initialization for dataclasses,\n",
    "    # see https://docs.python.org/3/library/dataclasses.html. Don't worry about it!\n",
    "    inertia: np.ndarray = field(default_factory=lambda: np.array([\n",
    "        [9.8e-3, 0, 0],\n",
    "        [0, 10.02e-3, 0],\n",
    "        [0, 0, 18.6e-3],\n",
    "    ]))\n",
    "\n",
    "    rotor_diameter: float = 10 * 0.0254  # [m] 10 inches\n",
    "\n",
    "    static_thrust_coefficient: float = 0.14553  # [-] Thrust coefficient\n",
    "    static_torque_coefficient: float = 0.01047  # [-] Torque coefficient\n",
    "\n",
    "    # NOTE(roy) assume this is the same front-to-back and left-to-right\n",
    "    arm_length: float = 0.3814 / 2.0  # [m] Arm length\n",
    "\n",
    "    # Universal constants\n",
    "    g: float = 9.80665  # [m/s2] Gravity\n",
    "    rho: float = 1.225  # [kg/m3] Sea-level density\n",
    "\n",
    "    def rotor_model(self, static_coefficient: float) -> float:\n",
    "        # NOTE(roy) I'm just including this for completeness sake, this means we can e.g. see how air density\n",
    "        # influences our simulation. Refer to this source for derivation:\n",
    "        # https://web.mit.edu/16.unified/www/FALL/thermodynamics/notes/node86.html\n",
    "        return self.rho * static_coefficient * (self.rotor_diameter ** 4) / (4 * np.pi ** 2)\n",
    "\n",
    "    # NOTE(roy) if you're unsure what @property decorators do: they make it so that we can call k_thrust as if it was just a class\n",
    "    # variable. I.e. we'd write params.k_thrust now, rather than params.k_thrust()\n",
    "    @property\n",
    "    def k_thrust(self):\n",
    "        return self.rotor_model(self.static_thrust_coefficient)\n",
    "\n",
    "    @property\n",
    "    def k_torque(self):\n",
    "        return self.rotor_model(self.static_torque_coefficient)\n",
    "\n",
    "# Simply treat as a global\n",
    "p = Params()"
   ]
  },
  {
   "cell_type": "markdown",
   "id": "cb3d307d-da05-44b2-9fe5-ff2e17de9bc4",
   "metadata": {},
   "source": [
    "### The dynamics"
   ]
  },
  {
   "cell_type": "code",
   "execution_count": 1,
   "id": "c5eaf6e3-647e-4d34-9708-b23e93d24a25",
   "metadata": {},
   "outputs": [
    {
     "ename": "NotImplementedError",
     "evalue": "Dynamics not implemented!",
     "output_type": "error",
     "traceback": [
      "\u001b[0;31m---------------------------------------------------------------------------\u001b[0m",
      "\u001b[0;31mNotImplementedError\u001b[0m                       Traceback (most recent call last)",
      "Cell \u001b[0;32mIn[1], line 2\u001b[0m\n\u001b[1;32m      1\u001b[0m \u001b[38;5;66;03m# Copy your dynamics here!\u001b[39;00m\n\u001b[0;32m----> 2\u001b[0m \u001b[38;5;28;01mraise\u001b[39;00m \u001b[38;5;167;01mNotImplementedError\u001b[39;00m(\u001b[38;5;124m\"\u001b[39m\u001b[38;5;124mDynamics not implemented!\u001b[39m\u001b[38;5;124m\"\u001b[39m)\n",
      "\u001b[0;31mNotImplementedError\u001b[0m: Dynamics not implemented!"
     ]
    }
   ],
   "source": [
    "# Copy your dynamics here!\n",
    "raise NotImplementedError(\"Dynamics not implemented!\")"
   ]
  },
  {
   "cell_type": "markdown",
   "id": "4f9ba9d3-8567-47a8-99dd-bb866fb4ad2b",
   "metadata": {},
   "source": [
    "### The controller"
   ]
  },
  {
   "cell_type": "code",
   "execution_count": null,
   "id": "18f7f265-951c-4df8-84de-327587df84e5",
   "metadata": {},
   "outputs": [],
   "source": [
    "@dataclass\n",
    "class ControllerParams:\n",
    "    \"\"\"The same as above but for the controller gains\"\"\"\n",
    "\n",
    "    # NOTE(roy) diag just means we get a matrix with these values on the diagonal,\n",
    "    # so these are 3x3 matrices (print them if you're unsure!)\n",
    "    # We use this formulation because it makes the math a bit more readable later on!\n",
    "    K_p: np.ndarray = field(default_factory=lambda: np.diag([1, 1, 100]))\n",
    "    K_d: np.ndarray = field(default_factory=lambda: np.diag([0.5, 0.5, 10]))\n",
    "\n",
    "    # Added gains for the attitude controller\n",
    "    Ka_p: np.ndarray = field(default_factory=lambda: np.diag([300, 300, 50]))\n",
    "    Ka_d: np.ndarray = field(default_factory=lambda: np.diag([50, 50, 20]))\n",
    "\n",
    "    # Min/max rotor rates!\n",
    "    rotor_rate_min: float = 180\n",
    "    rotor_rate_max: float = 600\n",
    "\n",
    "controller_p = ControllerParams()"
   ]
  },
  {
   "cell_type": "code",
   "execution_count": null,
   "id": "2e3538de-d020-47bc-a028-0f2a104f7b39",
   "metadata": {},
   "outputs": [],
   "source": [
    "# Copy your controller here!\n",
    "raise NotImplementedError(\"Controller not implemented!\")"
   ]
  },
  {
   "cell_type": "markdown",
   "id": "e9b945e2-f8cd-4fbd-9e8e-491a2e3ea825",
   "metadata": {},
   "source": [
    "### The trajectory\n",
    "\n",
    "In this notebook, you'll take your working controller and start generating some fun trajectories for it! I've provided a small `Waypoint` class which describes a single point for the quadrotor to visit. Then I've also provided a `WaypointTrajectory` class that takes in a list of those waypoints. I already wrote some of the code such that for each time `t` we know which waypoint comes before and after it.\n",
    "\n",
    "It's your job to generate smooth (and fast!) trajectories between the waypoints. What I would do to start:\n",
    "1. Generate the simplest possible trajectory and just **interpolate** the position between the previous and next waypoint.\n",
    "2. Generate a bang-coast-bang trajectory with a given maximum velocity- and acceleration\n",
    "3. (If you get here you're already doing great!)\n",
    "4. Generate a smooth polynomial trajectory! This is tricky and I don't expect you to get to this at all - you will also need to precompute the trajectory if you follow the method from the slides. Happy to help if you do have questions about this!"
   ]
  },
  {
   "cell_type": "code",
   "execution_count": 2,
   "id": "128e7c3e-3b65-44dd-bea7-3c0a48184e20",
   "metadata": {},
   "outputs": [
    {
     "ename": "NameError",
     "evalue": "name 'dataclass' is not defined",
     "output_type": "error",
     "traceback": [
      "\u001b[0;31m---------------------------------------------------------------------------\u001b[0m",
      "\u001b[0;31mNameError\u001b[0m                                 Traceback (most recent call last)",
      "Cell \u001b[0;32mIn[2], line 1\u001b[0m\n\u001b[0;32m----> 1\u001b[0m \u001b[38;5;129m@dataclass\u001b[39m\n\u001b[1;32m      2\u001b[0m \u001b[38;5;28;01mclass\u001b[39;00m \u001b[38;5;21;01mWaypoint\u001b[39;00m:\n\u001b[1;32m      3\u001b[0m     time: \u001b[38;5;28mfloat\u001b[39m  \u001b[38;5;66;03m# Time to arrive at waypoint\u001b[39;00m\n\u001b[1;32m      5\u001b[0m     position: np\u001b[38;5;241m.\u001b[39mndarray  \u001b[38;5;66;03m# xyz-position\u001b[39;00m\n",
      "\u001b[0;31mNameError\u001b[0m: name 'dataclass' is not defined"
     ]
    }
   ],
   "source": [
    "@dataclass\n",
    "class Waypoint:\n",
    "    time: float  # Time to arrive at waypoint\n",
    "    \n",
    "    position: np.ndarray  # xyz-position\n",
    "    yaw: float = 0.0\n",
    "\n",
    "    speed: np.ndarray = field(default_factory=lambda: np.zeros(3))  # xyz-velocity"
   ]
  },
  {
   "cell_type": "code",
   "execution_count": 3,
   "id": "10c6a0d0-54ab-4954-a37f-a276fa209330",
   "metadata": {},
   "outputs": [
    {
     "ename": "NameError",
     "evalue": "name 'TrajectoryBase' is not defined",
     "output_type": "error",
     "traceback": [
      "\u001b[0;31m---------------------------------------------------------------------------\u001b[0m",
      "\u001b[0;31mNameError\u001b[0m                                 Traceback (most recent call last)",
      "Cell \u001b[0;32mIn[3], line 3\u001b[0m\n\u001b[1;32m      1\u001b[0m \u001b[38;5;28;01mimport\u001b[39;00m \u001b[38;5;21;01mtyping\u001b[39;00m \u001b[38;5;28;01mas\u001b[39;00m \u001b[38;5;21;01mT\u001b[39;00m\n\u001b[0;32m----> 3\u001b[0m \u001b[38;5;28;01mclass\u001b[39;00m \u001b[38;5;21;01mWaypointTrajectory\u001b[39;00m(\u001b[43mTrajectoryBase\u001b[49m):\n\u001b[1;32m      4\u001b[0m     \u001b[38;5;28;01mdef\u001b[39;00m \u001b[38;5;21m__init__\u001b[39m(\u001b[38;5;28mself\u001b[39m, waypoints: T\u001b[38;5;241m.\u001b[39mList[Waypoint]) \u001b[38;5;241m-\u001b[39m\u001b[38;5;241m>\u001b[39m \u001b[38;5;28;01mNone\u001b[39;00m:\n\u001b[1;32m      5\u001b[0m         \u001b[38;5;28mself\u001b[39m\u001b[38;5;241m.\u001b[39mwaypoints \u001b[38;5;241m=\u001b[39m waypoints\n",
      "\u001b[0;31mNameError\u001b[0m: name 'TrajectoryBase' is not defined"
     ]
    }
   ],
   "source": [
    "import typing as T\n",
    "\n",
    "class WaypointTrajectory(TrajectoryBase):\n",
    "    def __init__(self, waypoints: T.List[Waypoint]) -> None:\n",
    "        self.waypoints = waypoints\n",
    "        assert self.waypoints[0].time == 0, \"First waypoint has to have time 0!\"\n",
    "\n",
    "        # Doublecheck the waypoints are in order:\n",
    "        for a, b in zip(self.waypoints[:-1], self.waypoints[1:]):\n",
    "            assert b.time > a.time, \"Waypoints time needs to be increasing!\"\n",
    "    \n",
    "    def eval(self, t: float):\n",
    "        # If we're at the last waypoint just pick the last way point\n",
    "        next_waypoint = next((w for w in self.waypoints if w.time >= t), None)\n",
    "        if next_waypoint is None:\n",
    "            return TrajectoryState(t, position=self.waypoints[-1].position, yaw=self.waypoints[-1].yaw)\n",
    "\n",
    "        # Else find the waypoints we're in between right now!\n",
    "        prev_waypoint = self.waypoints[self.waypoints.index(next_waypoint) - 1]\n",
    "\n",
    "        # And now that you have prev_waypoint and next_waypoint - generate a trajectory for a time somewhere in between!\n",
    "        raise NotImplementedError()\n",
    "\n",
    "        return TrajectoryState(t, position=position, yaw=yaw)"
   ]
  },
  {
   "cell_type": "code",
   "execution_count": null,
   "id": "4d6e259a-50e7-406e-b24c-15c7cf1dfa5d",
   "metadata": {},
   "outputs": [],
   "source": [
    "# NOTE(roy) this just writes an R now. Make it write something fun!\n",
    "trajectory = WaypointTrajectory([\n",
    "    Waypoint(0.0, position=np.zeros(3)),\n",
    "    Waypoint(2.0, position=np.array([0, 0, 1])),\n",
    "    Waypoint(4.0, position=np.array([0, 0.5, 1])),\n",
    "    Waypoint(6.0, position=np.array([0, 0.5, 0.5])),\n",
    "    Waypoint(8.0, position=np.array([0, 0.0, 0.5])),\n",
    "    Waypoint(10.0, position=np.array([0, 0.5, 0.0])),\n",
    "])"
   ]
  },
  {
   "cell_type": "markdown",
   "id": "e5172fc9-9b1c-413b-b918-d530651f3689",
   "metadata": {},
   "source": [
    "### Running the simulator"
   ]
  },
  {
   "cell_type": "code",
   "execution_count": null,
   "id": "4c71f459-6106-4d8c-89dd-df93eba630ad",
   "metadata": {},
   "outputs": [],
   "source": [
    "from quadrotor.simulator import SimulatorBase, SimulatorState\n",
    "\n",
    "# This might be slow to run the first time!\n",
    "from quadrotor.renderer import animate_k3d"
   ]
  },
  {
   "cell_type": "code",
   "execution_count": null,
   "id": "876309da-841b-4357-99b5-0f8e37e35e70",
   "metadata": {},
   "outputs": [],
   "source": [
    "def run_and_render(initial_state: QuadrotorState, t_total: int = 2.0):\n",
    "    sim = SimulatorBase(\n",
    "        dt=0.005,\n",
    "        dynamics=FullQuadrotorDynamics(),\n",
    "        controller=Controller(),\n",
    "        trajectory=JumpTrajectory(),\n",
    "        initial_state=initial_state,\n",
    "        t_total=t_total,\n",
    "    )\n",
    "    \n",
    "    # Run the simulator\n",
    "    output = sim.simulate()\n",
    "\n",
    "    # K3D renderer\n",
    "    plot = animate_k3d(output)\n",
    "    \n",
    "    plot.display()\n",
    "    plot.start_auto_play()"
   ]
  },
  {
   "cell_type": "code",
   "execution_count": null,
   "id": "45e8c4f7-c031-4824-a8d6-bf6b6b7a0e10",
   "metadata": {},
   "outputs": [],
   "source": [
    "# NOTE(roy) play with this variable and see what happens!\n",
    "initial_state = QuadrotorState(\n",
    "    position=np.zeros(3),\n",
    "    velocity=np.array([0, 0, 0]),\n",
    "    orientation=Rot3.from_yaw_pitch_roll(0, 0, 0),\n",
    "    angular_velocity=np.zeros(3),\n",
    ")\n",
    "\n",
    "run_and_render(initial_state, 10.0)"
   ]
  },
  {
   "cell_type": "markdown",
   "id": "77796509-2009-453e-9263-930a80d53ca5",
   "metadata": {},
   "source": [
    "### Looking at the controller behavior\n",
    "If all is well, the quadrotor should follow the trajectory!\n",
    "\n",
    "Try some experiments:\n",
    "- Can you make the controller more/less damped and faster/slower to respond?\n",
    "- Can you write a trajectory that has feasible velocities/positions?\n",
    "    - Hint: the trajectory that's currently there is infeasible, why?"
   ]
  },
  {
   "cell_type": "markdown",
   "id": "0d508b90-8de3-4ce2-bd54-284774a957ad",
   "metadata": {},
   "source": [
    "### Commit your updated notebook to your fork!"
   ]
  }
 ],
 "metadata": {
  "kernelspec": {
   "display_name": "Python 3 (ipykernel)",
   "language": "python",
   "name": "python3"
  },
  "language_info": {
   "codemirror_mode": {
    "name": "ipython",
    "version": 3
   },
   "file_extension": ".py",
   "mimetype": "text/x-python",
   "name": "python",
   "nbconvert_exporter": "python",
   "pygments_lexer": "ipython3",
   "version": "3.12.4"
  }
 },
 "nbformat": 4,
 "nbformat_minor": 5
}
