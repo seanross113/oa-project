{
 "cells": [
  {
   "cell_type": "code",
   "execution_count": 19,
   "id": "abdd7603-fdfc-4bbb-9fb9-fdace98b6ba7",
   "metadata": {},
   "outputs": [],
   "source": [
    "import numpy as np\n",
    "import scipy as sp"
   ]
  },
  {
   "cell_type": "code",
   "execution_count": 20,
   "id": "efd65fdf-e50c-40e2-ae0e-eef3ebbb38ec",
   "metadata": {},
   "outputs": [],
   "source": [
    "from quadrotor.dynamics import QuadrotorDynamicsBase, QuadrotorState\n",
    "from quadrotor.controller import ControllerBase, QuadrotorCommands\n",
    "from quadrotor.trajectory import TrajectoryBase, TrajectoryState"
   ]
  },
  {
   "cell_type": "code",
   "execution_count": 21,
   "id": "9c3c2c23-ffdf-42b3-863b-f389d0e16c91",
   "metadata": {},
   "outputs": [],
   "source": [
    "from sym import Rot3\n",
    "\n",
    "def dRot3(R: Rot3, omega: np.ndarray) -> Rot3:\n",
    "    \"\"\"\n",
    "    NOTE(roy): If interested, we can discuss the math here later. There are other\n",
    "    ways of doing this but to keep the ode_int formulation, we specifically require\n",
    "    dq/dt. Refer to 'Baseile Graf - Quaternions and Dynamics' or (for intuition)\n",
    "    https://math.stackexchange.com/questions/1896379/how-to-use-the-quaternion-derivative\n",
    "    \"\"\"\n",
    "    quat = np.array(R.to_storage())  # Convert to raw quaternion\n",
    "    (q0, q1, q2, q3) = quat  # xyzw storage, see https://symforce.org/api-gen-cpp/class/classsym_1_1Rot3.html\n",
    "\n",
    "    G = np.array([[ q3,  q2, -q1, -q0],\n",
    "                [-q2,  q3,  q0, -q1],\n",
    "                [ q1, -q0,  q3, -q2]])\n",
    "    quat_dot = (G.T @ omega) / 2\n",
    "    return Rot3.from_storage(quat_dot)"
   ]
  },
  {
   "cell_type": "markdown",
   "id": "a844a288-3d14-4248-8e06-2fcb7e26d3a1",
   "metadata": {},
   "source": [
    "### Building a 3D quadrotor model\n",
    "In this second notebook, we'll build a full 3-dimensional quadrotor model! In this one I will be leaving you guys alone a lot more, but as discussed in the lectures, there is a lot of overlap with the 2D model we made last week, so feel free to copy your implementation from there and simply expand it here!\n",
    "\n",
    "**When implementing things like this, I recommend working in steps!** For example, in your 2D model, you may find it's much better to _first_ model the accelerations; see whether that works and only _then_ move on to the angular acceleration. If you do both at the same time, finding bugs (and everyone introduces bugs once in a while!) is much harder. **Keep testing as you write code!**\n",
    "\n",
    "#### Recommended steps\n",
    "- Copy your 2D quadrotor model\n",
    "- Work your way down the same way we did on the 3D model\n",
    "    - Implement the mixing matrix (i.e. compute u1 and u2 from the rotor rates)\n",
    "    - Modify the `state_derivative` functions to take a vector for u2 rather than a float (because now of course that's 3 numbers!)\n",
    "    - Modify the `accel` formulation in your model to 3D (see equations in slides)\n",
    "    - Modify the `angular_accel` formulation in your model to 3D (see equations in slides)"
   ]
  },
  {
   "cell_type": "code",
   "execution_count": 22,
   "id": "0385ef41-575c-449f-a3ff-cfa254d836e6",
   "metadata": {},
   "outputs": [],
   "source": [
    "from dataclasses import dataclass, field\n",
    "\n",
    "@dataclass\n",
    "class Params:\n",
    "    \"\"\"A little utility class to hold our quadrotor parameters\"\"\"\n",
    "    mass: float = 1.352  # [kg]\n",
    "\n",
    "    # NOTE(roy) this is a matrix now as discussed!\n",
    "    # NOTE(roy) don't get scared by the field/default_factory thing! It's just a way to do default field initialization for dataclasses,\n",
    "    # see https://docs.python.org/3/library/dataclasses.html. Don't worry about it!\n",
    "    inertia: np.ndarray = field(default_factory=lambda: np.array([\n",
    "        [9.8e-3, 0, 0],\n",
    "        [0, 10.02e-3, 0],\n",
    "        [0, 0, 18.6e-3],\n",
    "    ]))\n",
    "\n",
    "    rotor_diameter: float = 10 * 0.0254  # [m] 10 inches\n",
    "\n",
    "    static_thrust_coefficient: float = 0.14553  # [-] Thrust coefficient\n",
    "    static_torque_coefficient: float = 0.01047  # [-] Torque coefficient\n",
    "\n",
    "    # NOTE(roy) assume this is the same front-to-back and left-to-right\n",
    "    arm_length: float = 0.3814 / 2.0  # [m] Arm length\n",
    "\n",
    "    # Universal constants\n",
    "    g: float = 9.80665  # [m/s2] Gravity\n",
    "    rho: float = 1.225  # [kg/m3] Sea-level density\n",
    "\n",
    "    def rotor_model(self, static_coefficient: float) -> float:\n",
    "        # NOTE(roy) I'm just including this for completeness sake, this means we can e.g. see how air density\n",
    "        # influences our simulation. Refer to this source for derivation:\n",
    "        # https://web.mit.edu/16.unified/www/FALL/thermodynamics/notes/node86.html\n",
    "        return self.rho * static_coefficient * (self.rotor_diameter ** 4) / (4 * np.pi ** 2)\n",
    "\n",
    "    # NOTE(roy) if you're unsure what @property decorators do: they make it so that we can call k_thrust as if it was just a class\n",
    "    # variable. I.e. we'd write params.k_thrust now, rather than params.k_thrust()\n",
    "    @property\n",
    "    def k_thrust(self):\n",
    "        return self.rotor_model(self.static_thrust_coefficient)\n",
    "\n",
    "    @property\n",
    "    def k_torque(self):\n",
    "        return self.rotor_model(self.static_torque_coefficient)\n",
    "\n",
    "# Simply treat as a global\n",
    "p = Params()"
   ]
  },
  {
   "cell_type": "code",
   "execution_count": 23,
   "id": "9613eae0-23b8-449c-8820-546dc443e480",
   "metadata": {},
   "outputs": [],
   "source": [
    "# NOTE(roy) please copy your previous assignment as a starting point!\n",
    "class FullQuadrotorDynamics(QuadrotorDynamicsBase):\n",
    "    def __init__(self) -> None:\n",
    "        super().__init__()\n",
    "\n",
    "    @staticmethod\n",
    "    def rotor_thrust_model(rotor_rates: np.ndarray) -> np.ndarray:\n",
    "        # NOTE(roy): Implement the simple rotor trust model we discussed in the slides\n",
    "        # (For fun) to see how complex this can get, see for example: https://arxiv.org/pdf/1601.00733.pdf\n",
    "        return p.k_thrust * rotor_rates ** 2\n",
    "\n",
    "   #Implement the mixing matrix (i.e. compute u1 and u2 from the rotor rates)\n",
    "    \n",
    "    \n",
    "    def step(self, t: float, input: QuadrotorCommands) -> QuadrotorState:\n",
    "        # NOTE(roy) Use only the first two rotor rates!\n",
    "        F1, F2, F3, F4 = FullQuadrotorDynamics.rotor_thrust_model(input.rotor_rates) \n",
    "\n",
    "        # NOTE(roy) Implement the thrust/torque calculation we discussed in the slides\n",
    "        u1 = F1 + F2 + F3 + F4\n",
    "        u2 = np.array([(F2 - F4) * p.arm_length, \n",
    "                       (F3 - F1) * p.arm_length,\n",
    "                       (F1 + F3 - F2 - F4) * (p.k_torque / p.k_thrust)])\n",
    "\n",
    "        # NOTE(roy) this local function is a wrapper around the class state_derivative function\n",
    "        # all this does is convert the our state dataclass from/into a vector that the scipy\n",
    "        # integration solver can work with. See dynamics.py for the definition of these\n",
    "        # from/to state vector functions.\n",
    "        def state_derivative(t: float, state: np.ndarray) -> np.ndarray:\n",
    "            return FullQuadrotorDynamics.state_derivative(\n",
    "                QuadrotorState.from_state_vector(state),\n",
    "                u1,\n",
    "                u2,\n",
    "            ).to_state_vector()\n",
    "\n",
    "        state_vector = self.state.to_state_vector()\n",
    "        #raise NotImplementedError(\"Use the scipy function solve_ivp to integrate to the next timestep\")\n",
    "        \n",
    "\n",
    "        # NOTE(roy) solution = sp.integrate.solve_ivp(....\n",
    "        solution = sp.integrate.solve_ivp(\n",
    "            fun=state_derivative,\n",
    "            t_span=[0, self.dt],\n",
    "            y0=state_vector,\n",
    "            method='RK45'\n",
    "        )\n",
    "\n",
    "        self.state = QuadrotorState.from_state_vector(solution['y'][:, -1])\n",
    "        return self.state\n",
    "\n",
    "    #Modify the state_derivative functions to take a vector for u2 rather than a float (because now of course that's 3 numbers!)\n",
    "    #Modify the accel formulation in your model to 3D (see equations in slides)\n",
    "    #Modify the angular_accel formulation in your model to 3D (see equations in slides)\n",
    "    @staticmethod\n",
    "    def state_derivative(state: QuadrotorState, u1: float, u2: np.ndarray) -> QuadrotorState:\n",
    "        rotation_body_to_world = state.orientation.to_rotation_matrix();\n",
    "        gravity_vector = np.array([0, 0, -p.mass * p.g])\n",
    "        u1_vector = np.array([0, 0, u1])\n",
    "        accel = (gravity_vector + rotation_body_to_world * u1_vector) / p.mass\n",
    "        angular_accel = np.linalg.inv(p.inertia) * (u2 - np.cross(state.angular_velocity, p.inertia * state.angular_velocity))\n",
    "        \n",
    "        # NOTE(roy) this might look a little confusing at first glance, but we're populating DERIVATIVES\n",
    "        # of the state here! So position -> velocity, velocity -> acceleration, etc...\n",
    "        # If you can think of a more readable way to do this (e.g. defining a QuadrotorStateDerivative class)\n",
    "        # feel free to open a pull-request into the upstream repository!\n",
    "        state_derivative = QuadrotorState(\n",
    "            position=state.velocity,\n",
    "            velocity=accel,\n",
    "            orientation=dRot3(state.orientation, state.angular_velocity),\n",
    "            angular_velocity=angular_accel,\n",
    "        )\n",
    "\n",
    "        return state_derivative\n"
   ]
  },
  {
   "cell_type": "markdown",
   "id": "35d7e761-f83a-44f4-a720-50281c6034ef",
   "metadata": {},
   "source": [
    "This code is largely the same, I set the rotor rates to 300 rad/s now (can you guess why?), you should see it be very close to hovering with these numbers! (As I hope you found in the previous assignment as well with 600rad/s!)"
   ]
  },
  {
   "cell_type": "code",
   "execution_count": 24,
   "id": "dfb09fed-c7e5-423a-8144-7594bad2072d",
   "metadata": {},
   "outputs": [],
   "source": [
    "class EmptyTrajectory(TrajectoryBase):\n",
    "    def eval(self, *args):\n",
    "        return TrajectoryState(0.0, position=np.zeros(3))  # Trajectory not yet important\n",
    "\n",
    "class EmptyController(ControllerBase):\n",
    "    def step(self, *args) -> QuadrotorCommands:\n",
    "        return QuadrotorCommands(np.array([300, 300, 300, 300]))"
   ]
  },
  {
   "cell_type": "code",
   "execution_count": 25,
   "id": "7cd5ed88-09a6-479e-8379-4b54d0cd4049",
   "metadata": {},
   "outputs": [],
   "source": [
    "from quadrotor.simulator import SimulatorBase, SimulatorState\n",
    "\n",
    "# This might be slow to run the first time!\n",
    "from quadrotor.renderer import animate_k3d"
   ]
  },
  {
   "cell_type": "code",
   "execution_count": 26,
   "id": "9abccb88-a090-44c0-b9b2-dacc8e28a042",
   "metadata": {},
   "outputs": [],
   "source": [
    "def run_and_render(initial_state: QuadrotorState, t_total: int = 0.5):\n",
    "    sim = SimulatorBase(\n",
    "        dt=0.01,\n",
    "        dynamics=FullQuadrotorDynamics(),\n",
    "        controller=EmptyController(),\n",
    "        trajectory=EmptyTrajectory(),\n",
    "        initial_state=initial_state,\n",
    "        t_total=t_total,\n",
    "    )\n",
    "    \n",
    "    # Run the simulator\n",
    "    output = sim.simulate()\n",
    "\n",
    "    # K3D renderer\n",
    "    plot = animate_k3d(output)\n",
    "    \n",
    "    plot.display()\n",
    "    plot.start_auto_play()"
   ]
  },
  {
   "cell_type": "code",
   "execution_count": 27,
   "id": "02c2b0c4-d334-43da-a1ec-c78cb4a5bf5a",
   "metadata": {},
   "outputs": [
    {
     "ename": "ValueError",
     "evalue": "all the input arrays must have same number of dimensions, but the array at index 0 has 1 dimension(s) and the array at index 1 has 2 dimension(s)",
     "output_type": "error",
     "traceback": [
      "\u001b[1;31m---------------------------------------------------------------------------\u001b[0m",
      "\u001b[1;31mValueError\u001b[0m                                Traceback (most recent call last)",
      "Cell \u001b[1;32mIn[27], line 9\u001b[0m\n\u001b[0;32m      1\u001b[0m \u001b[38;5;66;03m# NOTE(roy) play with this variable and see what happens!\u001b[39;00m\n\u001b[0;32m      2\u001b[0m initial_state \u001b[38;5;241m=\u001b[39m QuadrotorState(\n\u001b[0;32m      3\u001b[0m     position\u001b[38;5;241m=\u001b[39mnp\u001b[38;5;241m.\u001b[39mzeros(\u001b[38;5;241m3\u001b[39m),\n\u001b[0;32m      4\u001b[0m     velocity\u001b[38;5;241m=\u001b[39mnp\u001b[38;5;241m.\u001b[39marray([\u001b[38;5;241m0\u001b[39m, \u001b[38;5;241m0\u001b[39m, \u001b[38;5;241m0\u001b[39m]),\n\u001b[0;32m      5\u001b[0m     orientation\u001b[38;5;241m=\u001b[39mRot3\u001b[38;5;241m.\u001b[39mfrom_yaw_pitch_roll(\u001b[38;5;241m0\u001b[39m, \u001b[38;5;241m0\u001b[39m, \u001b[38;5;241m0\u001b[39m),\n\u001b[0;32m      6\u001b[0m     angular_velocity\u001b[38;5;241m=\u001b[39mnp\u001b[38;5;241m.\u001b[39mzeros(\u001b[38;5;241m3\u001b[39m),\n\u001b[0;32m      7\u001b[0m )\n\u001b[1;32m----> 9\u001b[0m \u001b[43mrun_and_render\u001b[49m\u001b[43m(\u001b[49m\u001b[43minitial_state\u001b[49m\u001b[43m,\u001b[49m\u001b[43m \u001b[49m\u001b[38;5;241;43m5.0\u001b[39;49m\u001b[43m)\u001b[49m\n",
      "Cell \u001b[1;32mIn[26], line 12\u001b[0m, in \u001b[0;36mrun_and_render\u001b[1;34m(initial_state, t_total)\u001b[0m\n\u001b[0;32m      2\u001b[0m sim \u001b[38;5;241m=\u001b[39m SimulatorBase(\n\u001b[0;32m      3\u001b[0m     dt\u001b[38;5;241m=\u001b[39m\u001b[38;5;241m0.01\u001b[39m,\n\u001b[0;32m      4\u001b[0m     dynamics\u001b[38;5;241m=\u001b[39mFullQuadrotorDynamics(),\n\u001b[1;32m   (...)\u001b[0m\n\u001b[0;32m      8\u001b[0m     t_total\u001b[38;5;241m=\u001b[39mt_total,\n\u001b[0;32m      9\u001b[0m )\n\u001b[0;32m     11\u001b[0m \u001b[38;5;66;03m# Run the simulator\u001b[39;00m\n\u001b[1;32m---> 12\u001b[0m output \u001b[38;5;241m=\u001b[39m \u001b[43msim\u001b[49m\u001b[38;5;241;43m.\u001b[39;49m\u001b[43msimulate\u001b[49m\u001b[43m(\u001b[49m\u001b[43m)\u001b[49m\n\u001b[0;32m     14\u001b[0m \u001b[38;5;66;03m# K3D renderer\u001b[39;00m\n\u001b[0;32m     15\u001b[0m plot \u001b[38;5;241m=\u001b[39m animate_k3d(output)\n",
      "File \u001b[1;32m~\\source\\OpenAveQuadCopter\\oa-project\\quadrotor\\simulator.py:61\u001b[0m, in \u001b[0;36mSimulatorBase.simulate\u001b[1;34m(self)\u001b[0m\n\u001b[0;32m     59\u001b[0m trajectory \u001b[38;5;241m=\u001b[39m \u001b[38;5;28mself\u001b[39m\u001b[38;5;241m.\u001b[39mtrajectory\u001b[38;5;241m.\u001b[39meval(t)\n\u001b[0;32m     60\u001b[0m command \u001b[38;5;241m=\u001b[39m \u001b[38;5;28mself\u001b[39m\u001b[38;5;241m.\u001b[39mcontroller\u001b[38;5;241m.\u001b[39mstep(t, trajectory, state)\n\u001b[1;32m---> 61\u001b[0m state \u001b[38;5;241m=\u001b[39m \u001b[38;5;28;43mself\u001b[39;49m\u001b[38;5;241;43m.\u001b[39;49m\u001b[43mdynamics\u001b[49m\u001b[38;5;241;43m.\u001b[39;49m\u001b[43mstep\u001b[49m\u001b[43m(\u001b[49m\u001b[43mt\u001b[49m\u001b[43m,\u001b[49m\u001b[43m \u001b[49m\u001b[43mcommand\u001b[49m\u001b[43m)\u001b[49m\n\u001b[0;32m     63\u001b[0m output\u001b[38;5;241m.\u001b[39mappend(SimulatorState(t, state, command, trajectory))\n\u001b[0;32m     65\u001b[0m t \u001b[38;5;241m+\u001b[39m\u001b[38;5;241m=\u001b[39m \u001b[38;5;28mself\u001b[39m\u001b[38;5;241m.\u001b[39mdt\n",
      "Cell \u001b[1;32mIn[23], line 41\u001b[0m, in \u001b[0;36mFullQuadrotorDynamics.step\u001b[1;34m(self, t, input)\u001b[0m\n\u001b[0;32m     36\u001b[0m state_vector \u001b[38;5;241m=\u001b[39m \u001b[38;5;28mself\u001b[39m\u001b[38;5;241m.\u001b[39mstate\u001b[38;5;241m.\u001b[39mto_state_vector()\n\u001b[0;32m     37\u001b[0m \u001b[38;5;66;03m#raise NotImplementedError(\"Use the scipy function solve_ivp to integrate to the next timestep\")\u001b[39;00m\n\u001b[0;32m     38\u001b[0m \n\u001b[0;32m     39\u001b[0m \n\u001b[0;32m     40\u001b[0m \u001b[38;5;66;03m# NOTE(roy) solution = sp.integrate.solve_ivp(....\u001b[39;00m\n\u001b[1;32m---> 41\u001b[0m solution \u001b[38;5;241m=\u001b[39m \u001b[43msp\u001b[49m\u001b[38;5;241;43m.\u001b[39;49m\u001b[43mintegrate\u001b[49m\u001b[38;5;241;43m.\u001b[39;49m\u001b[43msolve_ivp\u001b[49m\u001b[43m(\u001b[49m\n\u001b[0;32m     42\u001b[0m \u001b[43m    \u001b[49m\u001b[43mfun\u001b[49m\u001b[38;5;241;43m=\u001b[39;49m\u001b[43mstate_derivative\u001b[49m\u001b[43m,\u001b[49m\n\u001b[0;32m     43\u001b[0m \u001b[43m    \u001b[49m\u001b[43mt_span\u001b[49m\u001b[38;5;241;43m=\u001b[39;49m\u001b[43m[\u001b[49m\u001b[38;5;241;43m0\u001b[39;49m\u001b[43m,\u001b[49m\u001b[43m \u001b[49m\u001b[38;5;28;43mself\u001b[39;49m\u001b[38;5;241;43m.\u001b[39;49m\u001b[43mdt\u001b[49m\u001b[43m]\u001b[49m\u001b[43m,\u001b[49m\n\u001b[0;32m     44\u001b[0m \u001b[43m    \u001b[49m\u001b[43my0\u001b[49m\u001b[38;5;241;43m=\u001b[39;49m\u001b[43mstate_vector\u001b[49m\u001b[43m,\u001b[49m\n\u001b[0;32m     45\u001b[0m \u001b[43m    \u001b[49m\u001b[43mmethod\u001b[49m\u001b[38;5;241;43m=\u001b[39;49m\u001b[38;5;124;43m'\u001b[39;49m\u001b[38;5;124;43mRK45\u001b[39;49m\u001b[38;5;124;43m'\u001b[39;49m\n\u001b[0;32m     46\u001b[0m \u001b[43m\u001b[49m\u001b[43m)\u001b[49m\n\u001b[0;32m     48\u001b[0m \u001b[38;5;28mself\u001b[39m\u001b[38;5;241m.\u001b[39mstate \u001b[38;5;241m=\u001b[39m QuadrotorState\u001b[38;5;241m.\u001b[39mfrom_state_vector(solution[\u001b[38;5;124m'\u001b[39m\u001b[38;5;124my\u001b[39m\u001b[38;5;124m'\u001b[39m][:, \u001b[38;5;241m-\u001b[39m\u001b[38;5;241m1\u001b[39m])\n\u001b[0;32m     49\u001b[0m \u001b[38;5;28;01mreturn\u001b[39;00m \u001b[38;5;28mself\u001b[39m\u001b[38;5;241m.\u001b[39mstate\n",
      "File \u001b[1;32m~\\.virtualenvs\\oa-project-mOKUbq0B\\Lib\\site-packages\\scipy\\integrate\\_ivp\\ivp.py:616\u001b[0m, in \u001b[0;36msolve_ivp\u001b[1;34m(fun, t_span, y0, method, t_eval, dense_output, events, vectorized, args, **options)\u001b[0m\n\u001b[0;32m    613\u001b[0m \u001b[38;5;28;01mif\u001b[39;00m method \u001b[38;5;129;01min\u001b[39;00m METHODS:\n\u001b[0;32m    614\u001b[0m     method \u001b[38;5;241m=\u001b[39m METHODS[method]\n\u001b[1;32m--> 616\u001b[0m solver \u001b[38;5;241m=\u001b[39m \u001b[43mmethod\u001b[49m\u001b[43m(\u001b[49m\u001b[43mfun\u001b[49m\u001b[43m,\u001b[49m\u001b[43m \u001b[49m\u001b[43mt0\u001b[49m\u001b[43m,\u001b[49m\u001b[43m \u001b[49m\u001b[43my0\u001b[49m\u001b[43m,\u001b[49m\u001b[43m \u001b[49m\u001b[43mtf\u001b[49m\u001b[43m,\u001b[49m\u001b[43m \u001b[49m\u001b[43mvectorized\u001b[49m\u001b[38;5;241;43m=\u001b[39;49m\u001b[43mvectorized\u001b[49m\u001b[43m,\u001b[49m\u001b[43m \u001b[49m\u001b[38;5;241;43m*\u001b[39;49m\u001b[38;5;241;43m*\u001b[39;49m\u001b[43moptions\u001b[49m\u001b[43m)\u001b[49m\n\u001b[0;32m    618\u001b[0m \u001b[38;5;28;01mif\u001b[39;00m t_eval \u001b[38;5;129;01mis\u001b[39;00m \u001b[38;5;28;01mNone\u001b[39;00m:\n\u001b[0;32m    619\u001b[0m     ts \u001b[38;5;241m=\u001b[39m [t0]\n",
      "File \u001b[1;32m~\\.virtualenvs\\oa-project-mOKUbq0B\\Lib\\site-packages\\scipy\\integrate\\_ivp\\rk.py:94\u001b[0m, in \u001b[0;36mRungeKutta.__init__\u001b[1;34m(self, fun, t0, y0, t_bound, max_step, rtol, atol, vectorized, first_step, **extraneous)\u001b[0m\n\u001b[0;32m     92\u001b[0m \u001b[38;5;28mself\u001b[39m\u001b[38;5;241m.\u001b[39mmax_step \u001b[38;5;241m=\u001b[39m validate_max_step(max_step)\n\u001b[0;32m     93\u001b[0m \u001b[38;5;28mself\u001b[39m\u001b[38;5;241m.\u001b[39mrtol, \u001b[38;5;28mself\u001b[39m\u001b[38;5;241m.\u001b[39matol \u001b[38;5;241m=\u001b[39m validate_tol(rtol, atol, \u001b[38;5;28mself\u001b[39m\u001b[38;5;241m.\u001b[39mn)\n\u001b[1;32m---> 94\u001b[0m \u001b[38;5;28mself\u001b[39m\u001b[38;5;241m.\u001b[39mf \u001b[38;5;241m=\u001b[39m \u001b[38;5;28;43mself\u001b[39;49m\u001b[38;5;241;43m.\u001b[39;49m\u001b[43mfun\u001b[49m\u001b[43m(\u001b[49m\u001b[38;5;28;43mself\u001b[39;49m\u001b[38;5;241;43m.\u001b[39;49m\u001b[43mt\u001b[49m\u001b[43m,\u001b[49m\u001b[43m \u001b[49m\u001b[38;5;28;43mself\u001b[39;49m\u001b[38;5;241;43m.\u001b[39;49m\u001b[43my\u001b[49m\u001b[43m)\u001b[49m\n\u001b[0;32m     95\u001b[0m \u001b[38;5;28;01mif\u001b[39;00m first_step \u001b[38;5;129;01mis\u001b[39;00m \u001b[38;5;28;01mNone\u001b[39;00m:\n\u001b[0;32m     96\u001b[0m     \u001b[38;5;28mself\u001b[39m\u001b[38;5;241m.\u001b[39mh_abs \u001b[38;5;241m=\u001b[39m select_initial_step(\n\u001b[0;32m     97\u001b[0m         \u001b[38;5;28mself\u001b[39m\u001b[38;5;241m.\u001b[39mfun, \u001b[38;5;28mself\u001b[39m\u001b[38;5;241m.\u001b[39mt, \u001b[38;5;28mself\u001b[39m\u001b[38;5;241m.\u001b[39my, \u001b[38;5;28mself\u001b[39m\u001b[38;5;241m.\u001b[39mf, \u001b[38;5;28mself\u001b[39m\u001b[38;5;241m.\u001b[39mdirection,\n\u001b[0;32m     98\u001b[0m         \u001b[38;5;28mself\u001b[39m\u001b[38;5;241m.\u001b[39merror_estimator_order, \u001b[38;5;28mself\u001b[39m\u001b[38;5;241m.\u001b[39mrtol, \u001b[38;5;28mself\u001b[39m\u001b[38;5;241m.\u001b[39matol)\n",
      "File \u001b[1;32m~\\.virtualenvs\\oa-project-mOKUbq0B\\Lib\\site-packages\\scipy\\integrate\\_ivp\\base.py:154\u001b[0m, in \u001b[0;36mOdeSolver.__init__.<locals>.fun\u001b[1;34m(t, y)\u001b[0m\n\u001b[0;32m    152\u001b[0m \u001b[38;5;28;01mdef\u001b[39;00m \u001b[38;5;21mfun\u001b[39m(t, y):\n\u001b[0;32m    153\u001b[0m     \u001b[38;5;28mself\u001b[39m\u001b[38;5;241m.\u001b[39mnfev \u001b[38;5;241m+\u001b[39m\u001b[38;5;241m=\u001b[39m \u001b[38;5;241m1\u001b[39m\n\u001b[1;32m--> 154\u001b[0m     \u001b[38;5;28;01mreturn\u001b[39;00m \u001b[38;5;28;43mself\u001b[39;49m\u001b[38;5;241;43m.\u001b[39;49m\u001b[43mfun_single\u001b[49m\u001b[43m(\u001b[49m\u001b[43mt\u001b[49m\u001b[43m,\u001b[49m\u001b[43m \u001b[49m\u001b[43my\u001b[49m\u001b[43m)\u001b[49m\n",
      "File \u001b[1;32m~\\.virtualenvs\\oa-project-mOKUbq0B\\Lib\\site-packages\\scipy\\integrate\\_ivp\\base.py:23\u001b[0m, in \u001b[0;36mcheck_arguments.<locals>.fun_wrapped\u001b[1;34m(t, y)\u001b[0m\n\u001b[0;32m     22\u001b[0m \u001b[38;5;28;01mdef\u001b[39;00m \u001b[38;5;21mfun_wrapped\u001b[39m(t, y):\n\u001b[1;32m---> 23\u001b[0m     \u001b[38;5;28;01mreturn\u001b[39;00m np\u001b[38;5;241m.\u001b[39masarray(\u001b[43mfun\u001b[49m\u001b[43m(\u001b[49m\u001b[43mt\u001b[49m\u001b[43m,\u001b[49m\u001b[43m \u001b[49m\u001b[43my\u001b[49m\u001b[43m)\u001b[49m, dtype\u001b[38;5;241m=\u001b[39mdtype)\n",
      "Cell \u001b[1;32mIn[23], line 34\u001b[0m, in \u001b[0;36mFullQuadrotorDynamics.step.<locals>.state_derivative\u001b[1;34m(t, state)\u001b[0m\n\u001b[0;32m     29\u001b[0m \u001b[38;5;28;01mdef\u001b[39;00m \u001b[38;5;21mstate_derivative\u001b[39m(t: \u001b[38;5;28mfloat\u001b[39m, state: np\u001b[38;5;241m.\u001b[39mndarray) \u001b[38;5;241m-\u001b[39m\u001b[38;5;241m>\u001b[39m np\u001b[38;5;241m.\u001b[39mndarray:\n\u001b[0;32m     30\u001b[0m     \u001b[38;5;28;01mreturn\u001b[39;00m \u001b[43mFullQuadrotorDynamics\u001b[49m\u001b[38;5;241;43m.\u001b[39;49m\u001b[43mstate_derivative\u001b[49m\u001b[43m(\u001b[49m\n\u001b[0;32m     31\u001b[0m \u001b[43m        \u001b[49m\u001b[43mQuadrotorState\u001b[49m\u001b[38;5;241;43m.\u001b[39;49m\u001b[43mfrom_state_vector\u001b[49m\u001b[43m(\u001b[49m\u001b[43mstate\u001b[49m\u001b[43m)\u001b[49m\u001b[43m,\u001b[49m\n\u001b[0;32m     32\u001b[0m \u001b[43m        \u001b[49m\u001b[43mu1\u001b[49m\u001b[43m,\u001b[49m\n\u001b[0;32m     33\u001b[0m \u001b[43m        \u001b[49m\u001b[43mu2\u001b[49m\u001b[43m,\u001b[49m\n\u001b[1;32m---> 34\u001b[0m \u001b[43m    \u001b[49m\u001b[43m)\u001b[49m\u001b[38;5;241;43m.\u001b[39;49m\u001b[43mto_state_vector\u001b[49m\u001b[43m(\u001b[49m\u001b[43m)\u001b[49m\n",
      "File \u001b[1;32m~\\source\\OpenAveQuadCopter\\oa-project\\quadrotor\\dynamics.py:25\u001b[0m, in \u001b[0;36mQuadrotorState.to_state_vector\u001b[1;34m(self)\u001b[0m\n\u001b[0;32m     24\u001b[0m \u001b[38;5;28;01mdef\u001b[39;00m \u001b[38;5;21mto_state_vector\u001b[39m(\u001b[38;5;28mself\u001b[39m) \u001b[38;5;241m-\u001b[39m\u001b[38;5;241m>\u001b[39m np\u001b[38;5;241m.\u001b[39mndarray:\n\u001b[1;32m---> 25\u001b[0m     \u001b[38;5;28;01mreturn\u001b[39;00m \u001b[43mnp\u001b[49m\u001b[38;5;241;43m.\u001b[39;49m\u001b[43mhstack\u001b[49m\u001b[43m(\u001b[49m\u001b[43m[\u001b[49m\n\u001b[0;32m     26\u001b[0m \u001b[43m        \u001b[49m\u001b[38;5;28;43mself\u001b[39;49m\u001b[38;5;241;43m.\u001b[39;49m\u001b[43mposition\u001b[49m\u001b[43m,\u001b[49m\n\u001b[0;32m     27\u001b[0m \u001b[43m        \u001b[49m\u001b[38;5;28;43mself\u001b[39;49m\u001b[38;5;241;43m.\u001b[39;49m\u001b[43mvelocity\u001b[49m\u001b[43m,\u001b[49m\n\u001b[0;32m     28\u001b[0m \u001b[43m        \u001b[49m\u001b[43mnp\u001b[49m\u001b[38;5;241;43m.\u001b[39;49m\u001b[43marray\u001b[49m\u001b[43m(\u001b[49m\u001b[38;5;28;43mself\u001b[39;49m\u001b[38;5;241;43m.\u001b[39;49m\u001b[43morientation\u001b[49m\u001b[38;5;241;43m.\u001b[39;49m\u001b[43mto_storage\u001b[49m\u001b[43m(\u001b[49m\u001b[43m)\u001b[49m\u001b[43m)\u001b[49m\u001b[43m,\u001b[49m\n\u001b[0;32m     29\u001b[0m \u001b[43m        \u001b[49m\u001b[38;5;28;43mself\u001b[39;49m\u001b[38;5;241;43m.\u001b[39;49m\u001b[43mangular_velocity\u001b[49m\n\u001b[0;32m     30\u001b[0m \u001b[43m    \u001b[49m\u001b[43m]\u001b[49m\u001b[43m)\u001b[49m\n",
      "File \u001b[1;32m~\\.virtualenvs\\oa-project-mOKUbq0B\\Lib\\site-packages\\numpy\\core\\shape_base.py:357\u001b[0m, in \u001b[0;36mhstack\u001b[1;34m(tup, dtype, casting)\u001b[0m\n\u001b[0;32m    355\u001b[0m \u001b[38;5;66;03m# As a special case, dimension 0 of 1-dimensional arrays is \"horizontal\"\u001b[39;00m\n\u001b[0;32m    356\u001b[0m \u001b[38;5;28;01mif\u001b[39;00m arrs \u001b[38;5;129;01mand\u001b[39;00m arrs[\u001b[38;5;241m0\u001b[39m]\u001b[38;5;241m.\u001b[39mndim \u001b[38;5;241m==\u001b[39m \u001b[38;5;241m1\u001b[39m:\n\u001b[1;32m--> 357\u001b[0m     \u001b[38;5;28;01mreturn\u001b[39;00m \u001b[43m_nx\u001b[49m\u001b[38;5;241;43m.\u001b[39;49m\u001b[43mconcatenate\u001b[49m\u001b[43m(\u001b[49m\u001b[43marrs\u001b[49m\u001b[43m,\u001b[49m\u001b[43m \u001b[49m\u001b[38;5;241;43m0\u001b[39;49m\u001b[43m,\u001b[49m\u001b[43m \u001b[49m\u001b[43mdtype\u001b[49m\u001b[38;5;241;43m=\u001b[39;49m\u001b[43mdtype\u001b[49m\u001b[43m,\u001b[49m\u001b[43m \u001b[49m\u001b[43mcasting\u001b[49m\u001b[38;5;241;43m=\u001b[39;49m\u001b[43mcasting\u001b[49m\u001b[43m)\u001b[49m\n\u001b[0;32m    358\u001b[0m \u001b[38;5;28;01melse\u001b[39;00m:\n\u001b[0;32m    359\u001b[0m     \u001b[38;5;28;01mreturn\u001b[39;00m _nx\u001b[38;5;241m.\u001b[39mconcatenate(arrs, \u001b[38;5;241m1\u001b[39m, dtype\u001b[38;5;241m=\u001b[39mdtype, casting\u001b[38;5;241m=\u001b[39mcasting)\n",
      "\u001b[1;31mValueError\u001b[0m: all the input arrays must have same number of dimensions, but the array at index 0 has 1 dimension(s) and the array at index 1 has 2 dimension(s)"
     ]
    }
   ],
   "source": [
    "# NOTE(roy) play with this variable and see what happens!\n",
    "initial_state = QuadrotorState(\n",
    "    position=np.zeros(3),\n",
    "    velocity=np.array([0, 0, 0]),\n",
    "    orientation=Rot3.from_yaw_pitch_roll(0, 0, 0),\n",
    "    angular_velocity=np.zeros(3),\n",
    ")\n",
    "\n",
    "run_and_render(initial_state, 5.0)"
   ]
  },
  {
   "cell_type": "markdown",
   "id": "b600cdcd-d6d8-44d1-8f3a-07d9eecfb3f3",
   "metadata": {},
   "source": [
    "### Does the simulated model make any sense?\n",
    "If all is well, you should see the quadrotor roughly hovering with those 300 rad/s rotor rates\n",
    "\n",
    "Now try some experiments for yourself and describe whether the behavior is as expected or whether there is anything wrong with your model, ideas to try:\n",
    "- Can you make the vehicle yaw by setting a combination of rotor rates?\n",
    "- Can you make the vehicle move forward/backward left/right by correctly lowering two rotor rates each time?\n",
    "- What happens if you're in hover (i.e. the 300 rad/s) and disable one rotor?"
   ]
  },
  {
   "cell_type": "markdown",
   "id": "6822a926-51a3-4df3-a9bb-5b451fd6db6e",
   "metadata": {},
   "source": [
    "### Commit your updated notebook to your fork!"
   ]
  }
 ],
 "metadata": {
  "kernelspec": {
   "display_name": "Python 3 (ipykernel)",
   "language": "python",
   "name": "python3"
  },
  "language_info": {
   "codemirror_mode": {
    "name": "ipython",
    "version": 3
   },
   "file_extension": ".py",
   "mimetype": "text/x-python",
   "name": "python",
   "nbconvert_exporter": "python",
   "pygments_lexer": "ipython3",
   "version": "3.12.5"
  }
 },
 "nbformat": 4,
 "nbformat_minor": 5
}
