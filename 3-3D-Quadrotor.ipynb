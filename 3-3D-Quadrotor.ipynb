{
 "cells": [
  {
   "cell_type": "code",
   "execution_count": 101,
   "id": "abdd7603-fdfc-4bbb-9fb9-fdace98b6ba7",
   "metadata": {},
   "outputs": [],
   "source": [
    "import numpy as np\n",
    "import scipy as sp"
   ]
  },
  {
   "cell_type": "code",
   "execution_count": 102,
   "id": "efd65fdf-e50c-40e2-ae0e-eef3ebbb38ec",
   "metadata": {},
   "outputs": [],
   "source": [
    "from quadrotor.dynamics import QuadrotorDynamicsBase, QuadrotorState\n",
    "from quadrotor.controller import ControllerBase, QuadrotorCommands\n",
    "from quadrotor.trajectory import TrajectoryBase, TrajectoryState"
   ]
  },
  {
   "cell_type": "code",
   "execution_count": 103,
   "id": "9c3c2c23-ffdf-42b3-863b-f389d0e16c91",
   "metadata": {},
   "outputs": [],
   "source": [
    "from sym import Rot3\n",
    "\n",
    "def dRot3(R: Rot3, omega: np.ndarray) -> Rot3:\n",
    "    \"\"\"\n",
    "    NOTE(roy): If interested, we can discuss the math here later. There are other\n",
    "    ways of doing this but to keep the ode_int formulation, we specifically require\n",
    "    dq/dt. Refer to 'Baseile Graf - Quaternions and Dynamics' or (for intuition)\n",
    "    https://math.stackexchange.com/questions/1896379/how-to-use-the-quaternion-derivative\n",
    "    \"\"\"\n",
    "    quat = np.array(R.to_storage())  # Convert to raw quaternion\n",
    "    (q0, q1, q2, q3) = quat  # xyzw storage, see https://symforce.org/api-gen-cpp/class/classsym_1_1Rot3.html\n",
    "\n",
    "    G = np.array([[ q3,  q2, -q1, -q0],\n",
    "                [-q2,  q3,  q0, -q1],\n",
    "                [ q1, -q0,  q3, -q2]])\n",
    "    quat_dot = (G.T @ omega) / 2\n",
    "    return Rot3.from_storage(quat_dot)"
   ]
  },
  {
   "cell_type": "markdown",
   "id": "a844a288-3d14-4248-8e06-2fcb7e26d3a1",
   "metadata": {},
   "source": [
    "### Building a 3D quadrotor model\n",
    "In this second notebook, we'll build a full 3-dimensional quadrotor model! In this one I will be leaving you guys alone a lot more, but as discussed in the lectures, there is a lot of overlap with the 2D model we made last week, so feel free to copy your implementation from there and simply expand it here!\n",
    "\n",
    "**When implementing things like this, I recommend working in steps!** For example, in your 2D model, you may find it's much better to _first_ model the accelerations; see whether that works and only _then_ move on to the angular acceleration. If you do both at the same time, finding bugs (and everyone introduces bugs once in a while!) is much harder. **Keep testing as you write code!**\n",
    "\n",
    "#### Recommended steps\n",
    "- Copy your 2D quadrotor model\n",
    "- Work your way down the same way we did on the 3D model\n",
    "    - Implement the mixing matrix (i.e. compute u1 and u2 from the rotor rates)\n",
    "    - Modify the `state_derivative` functions to take a vector for u2 rather than a float (because now of course that's 3 numbers!)\n",
    "    - Modify the `accel` formulation in your model to 3D (see equations in slides)\n",
    "    - Modify the `angular_accel` formulation in your model to 3D (see equations in slides)"
   ]
  },
  {
   "cell_type": "code",
   "execution_count": 104,
   "id": "0385ef41-575c-449f-a3ff-cfa254d836e6",
   "metadata": {},
   "outputs": [],
   "source": [
    "from dataclasses import dataclass, field\n",
    "\n",
    "@dataclass\n",
    "class Params:\n",
    "    \"\"\"A little utility class to hold our quadrotor parameters\"\"\"\n",
    "    mass: float = 1.352  # [kg]\n",
    "\n",
    "    # NOTE(roy) this is a matrix now as discussed!\n",
    "    # NOTE(roy) don't get scared by the field/default_factory thing! It's just a way to do default field initialization for dataclasses,\n",
    "    # see https://docs.python.org/3/library/dataclasses.html. Don't worry about it!\n",
    "    inertia: np.ndarray = field(default_factory=lambda: np.array([\n",
    "        [9.8e-3, 0, 0],\n",
    "        [0, 10.02e-3, 0],\n",
    "        [0, 0, 18.6e-3],\n",
    "    ]))\n",
    "\n",
    "    rotor_diameter: float = 10 * 0.0254  # [m] 10 inches\n",
    "\n",
    "    static_thrust_coefficient: float = 0.14553  # [-] Thrust coefficient\n",
    "    static_torque_coefficient: float = 0.01047  # [-] Torque coefficient\n",
    "\n",
    "    # NOTE(roy) assume this is the same front-to-back and left-to-right\n",
    "    arm_length: float = 0.3814 / 2.0  # [m] Arm length\n",
    "\n",
    "    # Universal constants\n",
    "    g: float = 9.80665  # [m/s2] Gravity\n",
    "    rho: float = 1.225  # [kg/m3] Sea-level density\n",
    "\n",
    "    def rotor_model(self, static_coefficient: float) -> float:\n",
    "        # NOTE(roy) I'm just including this for completeness sake, this means we can e.g. see how air density\n",
    "        # influences our simulation. Refer to this source for derivation:\n",
    "        # https://web.mit.edu/16.unified/www/FALL/thermodynamics/notes/node86.html\n",
    "        return self.rho * static_coefficient * (self.rotor_diameter ** 4) / (4 * np.pi ** 2)\n",
    "\n",
    "    # NOTE(roy) if you're unsure what @property decorators do: they make it so that we can call k_thrust as if it was just a class\n",
    "    # variable. I.e. we'd write params.k_thrust now, rather than params.k_thrust()\n",
    "    @property\n",
    "    def k_thrust(self):\n",
    "        return self.rotor_model(self.static_thrust_coefficient)\n",
    "\n",
    "    @property\n",
    "    def k_torque(self):\n",
    "        return self.rotor_model(self.static_torque_coefficient)\n",
    "\n",
    "# Simply treat as a global\n",
    "p = Params()\n",
    "inertia_inverted = np.linalg.inv(p.inertia)"
   ]
  },
  {
   "cell_type": "code",
   "execution_count": 105,
   "id": "9613eae0-23b8-449c-8820-546dc443e480",
   "metadata": {},
   "outputs": [],
   "source": [
    "# NOTE(roy) please copy your previous assignment as a starting point!\n",
    "class FullQuadrotorDynamics(QuadrotorDynamicsBase):\n",
    "    def __init__(self) -> None:\n",
    "        super().__init__()\n",
    "\n",
    "    @staticmethod\n",
    "    def rotor_thrust_model(rotor_rates: np.ndarray) -> np.ndarray:\n",
    "        # NOTE(roy): Implement the simple rotor trust model we discussed in the slides\n",
    "        # (For fun) to see how complex this can get, see for example: https://arxiv.org/pdf/1601.00733.pdf\n",
    "        return p.k_thrust * rotor_rates ** 2\n",
    "\n",
    "   #Implement the mixing matrix (i.e. compute u1 and u2 from the rotor rates)\n",
    "    \n",
    "    \n",
    "    def step(self, t: float, input: QuadrotorCommands) -> QuadrotorState:\n",
    "        # NOTE(roy) Use only the first two rotor rates!\n",
    "        F1, F2, F3, F4 = FullQuadrotorDynamics.rotor_thrust_model(input.rotor_rates) \n",
    "\n",
    "        # NOTE(roy) Implement the thrust/torque calculation we discussed in the slides\n",
    "        u1 = F1 + F2 + F3 + F4\n",
    "        u2 = np.array([(F2 - F4) * p.arm_length, \n",
    "                       (F3 - F1) * p.arm_length,\n",
    "                       (F1 + F3 - F2 - F4) * (p.k_torque / p.k_thrust)])\n",
    "\n",
    "        # NOTE(roy) this local function is a wrapper around the class state_derivative function\n",
    "        # all this does is convert the our state dataclass from/into a vector that the scipy\n",
    "        # integration solver can work with. See dynamics.py for the definition of these\n",
    "        # from/to state vector functions.\n",
    "        def state_derivative_local_wrapped(t: float, state: np.ndarray) -> np.ndarray:\n",
    "            return FullQuadrotorDynamics.state_derivative(\n",
    "                QuadrotorState.from_state_vector(state),\n",
    "                u1,\n",
    "                u2,\n",
    "            ).to_state_vector()\n",
    "\n",
    "        state_vector = self.state.to_state_vector()\n",
    "        #raise NotImplementedError(\"Use the scipy function solve_ivp to integrate to the next timestep\")\n",
    "        \n",
    "\n",
    "        # NOTE(roy) solution = sp.integrate.solve_ivp(....\n",
    "        solution = sp.integrate.solve_ivp(\n",
    "            fun=state_derivative_local_wrapped,\n",
    "            t_span=[0, self.dt],\n",
    "            y0=state_vector,\n",
    "            method='RK45'\n",
    "        )\n",
    "\n",
    "        self.state = QuadrotorState.from_state_vector(solution['y'][:, -1])\n",
    "        return self.state\n",
    "\n",
    "    #Modify the state_derivative functions to take a vector for u2 rather than a float (because now of course that's 3 numbers!)\n",
    "    #Modify the accel formulation in your model to 3D (see equations in slides)\n",
    "    #Modify the angular_accel formulation in your model to 3D (see equations in slides)\n",
    "    @staticmethod\n",
    "    def state_derivative(state: QuadrotorState, u1: float, u2: np.ndarray) -> QuadrotorState:\n",
    "        rotation_body_to_world = state.orientation.to_rotation_matrix();\n",
    "        gravity_vector = np.array([0, 0, -p.mass * p.g])\n",
    "        u1_vector = np.array([0, 0, u1])\n",
    "        accel = (gravity_vector + np.matmul(rotation_body_to_world, u1_vector)) / p.mass\n",
    "        angular_accel = np.matmul(inertia_inverted, (u2 - np.cross(state.angular_velocity, np.matmul(p.inertia,state.angular_velocity))))\n",
    "        \n",
    "        # NOTE(roy) this might look a little confusing at first glance, but we're populating DERIVATIVES\n",
    "        # of the state here! So position -> velocity, velocity -> acceleration, etc...\n",
    "        # If you can think of a more readable way to do this (e.g. defining a QuadrotorStateDerivative class)\n",
    "        # feel free to open a pull-request into the upstream repository!\n",
    "        state_derivative = QuadrotorState(\n",
    "            position=state.velocity,\n",
    "            velocity=accel,\n",
    "            orientation=dRot3(state.orientation, state.angular_velocity),\n",
    "            angular_velocity=angular_accel,\n",
    "        )\n",
    "\n",
    "        return state_derivative\n"
   ]
  },
  {
   "cell_type": "markdown",
   "id": "35d7e761-f83a-44f4-a720-50281c6034ef",
   "metadata": {},
   "source": [
    "This code is largely the same, I set the rotor rates to 300 rad/s now (can you guess why?), you should see it be very close to hovering with these numbers! (As I hope you found in the previous assignment as well with 600rad/s!)"
   ]
  },
  {
   "cell_type": "code",
   "execution_count": 106,
   "id": "dfb09fed-c7e5-423a-8144-7594bad2072d",
   "metadata": {},
   "outputs": [],
   "source": [
    "class EmptyTrajectory(TrajectoryBase):\n",
    "    def eval(self, *args):\n",
    "        return TrajectoryState(0.0, position=np.zeros(3))  # Trajectory not yet important\n",
    "\n",
    "class EmptyController(ControllerBase):\n",
    "    def step(self, *args) -> QuadrotorCommands:\n",
    "        return QuadrotorCommands(np.array([355, 345, 355, 345]))"
   ]
  },
  {
   "cell_type": "code",
   "execution_count": 107,
   "id": "7cd5ed88-09a6-479e-8379-4b54d0cd4049",
   "metadata": {},
   "outputs": [],
   "source": [
    "from quadrotor.simulator import SimulatorBase, SimulatorState\n",
    "\n",
    "# This might be slow to run the first time!\n",
    "from quadrotor.renderer import animate_k3d"
   ]
  },
  {
   "cell_type": "code",
   "execution_count": 108,
   "id": "9abccb88-a090-44c0-b9b2-dacc8e28a042",
   "metadata": {},
   "outputs": [],
   "source": [
    "def run_and_render(initial_state: QuadrotorState, t_total: int = 0.5):\n",
    "    sim = SimulatorBase(\n",
    "        dt=0.01,\n",
    "        dynamics=FullQuadrotorDynamics(),\n",
    "        controller=EmptyController(),\n",
    "        trajectory=EmptyTrajectory(),\n",
    "        initial_state=initial_state,\n",
    "        t_total=t_total,\n",
    "    )\n",
    "    \n",
    "    # Run the simulator\n",
    "    output = sim.simulate()\n",
    "\n",
    "    # K3D renderer\n",
    "    plot = animate_k3d(output)\n",
    "    \n",
    "    plot.display()\n",
    "    plot.start_auto_play()"
   ]
  },
  {
   "cell_type": "code",
   "execution_count": 109,
   "id": "02c2b0c4-d334-43da-a1ec-c78cb4a5bf5a",
   "metadata": {},
   "outputs": [
    {
     "data": {
      "application/vnd.jupyter.widget-view+json": {
       "model_id": "f079e0cbf3a4439aac23a32885dc7b87",
       "version_major": 2,
       "version_minor": 0
      },
      "text/plain": [
       "Output()"
      ]
     },
     "metadata": {},
     "output_type": "display_data"
    }
   ],
   "source": [
    "# NOTE(roy) play with this variable and see what happens!\n",
    "initial_state = QuadrotorState(\n",
    "    position=np.zeros(3),\n",
    "    velocity=np.array([0, 0, 0]),\n",
    "    orientation=Rot3.from_yaw_pitch_roll(0, 0, 0),\n",
    "    angular_velocity=np.zeros(3),\n",
    ")\n",
    "\n",
    "run_and_render(initial_state, 5.0)"
   ]
  },
  {
   "cell_type": "markdown",
   "id": "b600cdcd-d6d8-44d1-8f3a-07d9eecfb3f3",
   "metadata": {},
   "source": [
    "### Does the simulated model make any sense?\n",
    "If all is well, you should see the quadrotor roughly hovering with those 300 rad/s rotor rates\n",
    "\n",
    "Now try some experiments for yourself and describe whether the behavior is as expected or whether there is anything wrong with your model, ideas to try:\n",
    "- Can you make the vehicle yaw by setting a combination of rotor rates?\n",
    "- Can you make the vehicle move forward/backward left/right by correctly lowering two rotor rates each time?\n",
    "- What happens if you're in hover (i.e. the 300 rad/s) and disable one rotor?"
   ]
  },
  {
   "cell_type": "markdown",
   "id": "6822a926-51a3-4df3-a9bb-5b451fd6db6e",
   "metadata": {},
   "source": [
    "### Commit your updated notebook to your fork!"
   ]
  }
 ],
 "metadata": {
  "kernelspec": {
   "display_name": "Python 3 (ipykernel)",
   "language": "python",
   "name": "python3"
  },
  "language_info": {
   "codemirror_mode": {
    "name": "ipython",
    "version": 3
   },
   "file_extension": ".py",
   "mimetype": "text/x-python",
   "name": "python",
   "nbconvert_exporter": "python",
   "pygments_lexer": "ipython3",
   "version": "3.12.5"
  }
 },
 "nbformat": 4,
 "nbformat_minor": 5
}
